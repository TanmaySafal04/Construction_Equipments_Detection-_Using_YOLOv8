{
  "cells": [
    {
      "cell_type": "code",
      "execution_count": 1,
      "metadata": {
        "colab": {
          "base_uri": "https://localhost:8080/"
        },
        "id": "miia7vmpXHqY",
        "outputId": "5407c7d6-f68f-4518-d7d1-dac5c8287176"
      },
      "outputs": [
        {
          "name": "stdout",
          "output_type": "stream",
          "text": [
            "/teamspace/studios/this_studio/OpenImgFolder\n"
          ]
        },
        {
          "name": "stderr",
          "output_type": "stream",
          "text": [
            "/home/zeus/miniconda3/envs/cloudspace/lib/python3.10/site-packages/IPython/core/magics/osm.py:417: UserWarning: using dhist requires you to install the `pickleshare` library.\n",
            "  self.shell.db['dhist'] = compress_dhist(dhist)[-100:]\n"
          ]
        }
      ],
      "source": [
        "%cd OpenImgFolder"
      ]
    },
    {
      "cell_type": "code",
      "execution_count": 2,
      "metadata": {},
      "outputs": [],
      "source": [
        "import zipfile\n",
        "import io\n",
        "\n",
        "# Replace 'your_file.zip' with the name of your ZIP file\n",
        "zip_file = '/teamspace/studios/this_studio/OpenImgFolder/data.zip'\n",
        "\n",
        "# Open the ZIP file\n",
        "with zipfile.ZipFile(zip_file, 'r') as zip_ref:\n",
        "    # Extract all the contents into the current working directory\n",
        "    zip_ref.extractall()\n"
      ]
    },
    {
      "cell_type": "code",
      "execution_count": 9,
      "metadata": {},
      "outputs": [
        {
          "data": {
            "text/plain": [
              "'/teamspace/studios/this_studio/OpenImgFolder'"
            ]
          },
          "execution_count": 9,
          "metadata": {},
          "output_type": "execute_result"
        }
      ],
      "source": [
        "pwd"
      ]
    },
    {
      "cell_type": "code",
      "execution_count": 10,
      "metadata": {
        "colab": {
          "base_uri": "https://localhost:8080/"
        },
        "id": "68XsyPNXD6-k",
        "outputId": "2b7cfa56-2df4-4b4f-cd15-7e6916040211"
      },
      "outputs": [
        {
          "name": "stdout",
          "output_type": "stream",
          "text": [
            "Requirement already satisfied: fiftyone in /system/conda/miniconda3/envs/cloudspace/lib/python3.10/site-packages (0.23.6)\n",
            "Requirement already satisfied: aiofiles in /system/conda/miniconda3/envs/cloudspace/lib/python3.10/site-packages (from fiftyone) (23.2.1)\n",
            "Requirement already satisfied: argcomplete in /system/conda/miniconda3/envs/cloudspace/lib/python3.10/site-packages (from fiftyone) (3.2.3)\n",
            "Requirement already satisfied: beautifulsoup4 in /system/conda/miniconda3/envs/cloudspace/lib/python3.10/site-packages (from fiftyone) (4.12.3)\n",
            "Requirement already satisfied: boto3 in /system/conda/miniconda3/envs/cloudspace/lib/python3.10/site-packages (from fiftyone) (1.34.61)\n",
            "Requirement already satisfied: cachetools in /system/conda/miniconda3/envs/cloudspace/lib/python3.10/site-packages (from fiftyone) (5.3.3)\n",
            "Requirement already satisfied: dacite<1.8.0,>=1.6.0 in /system/conda/miniconda3/envs/cloudspace/lib/python3.10/site-packages (from fiftyone) (1.7.0)\n",
            "Requirement already satisfied: Deprecated in /system/conda/miniconda3/envs/cloudspace/lib/python3.10/site-packages (from fiftyone) (1.2.14)\n",
            "Requirement already satisfied: ftfy in /system/conda/miniconda3/envs/cloudspace/lib/python3.10/site-packages (from fiftyone) (6.2.0)\n",
            "Requirement already satisfied: humanize in /system/conda/miniconda3/envs/cloudspace/lib/python3.10/site-packages (from fiftyone) (4.9.0)\n",
            "Requirement already satisfied: hypercorn>=0.13.2 in /system/conda/miniconda3/envs/cloudspace/lib/python3.10/site-packages (from fiftyone) (0.16.0)\n",
            "Requirement already satisfied: Jinja2>=3 in /system/conda/miniconda3/envs/cloudspace/lib/python3.10/site-packages (from fiftyone) (3.1.3)\n",
            "Requirement already satisfied: kaleido!=0.2.1.post1 in /system/conda/miniconda3/envs/cloudspace/lib/python3.10/site-packages (from fiftyone) (0.2.1)\n",
            "Requirement already satisfied: matplotlib in /system/conda/miniconda3/envs/cloudspace/lib/python3.10/site-packages (from fiftyone) (3.8.2)\n",
            "Requirement already satisfied: mongoengine==0.24.2 in /system/conda/miniconda3/envs/cloudspace/lib/python3.10/site-packages (from fiftyone) (0.24.2)\n",
            "Requirement already satisfied: motor>=2.5 in /system/conda/miniconda3/envs/cloudspace/lib/python3.10/site-packages (from fiftyone) (3.3.2)\n",
            "Requirement already satisfied: numpy in /system/conda/miniconda3/envs/cloudspace/lib/python3.10/site-packages (from fiftyone) (1.26.2)\n",
            "Requirement already satisfied: packaging in /system/conda/miniconda3/envs/cloudspace/lib/python3.10/site-packages (from fiftyone) (24.0)\n",
            "Requirement already satisfied: pandas in /system/conda/miniconda3/envs/cloudspace/lib/python3.10/site-packages (from fiftyone) (2.1.4)\n",
            "Requirement already satisfied: Pillow>=6.2 in /system/conda/miniconda3/envs/cloudspace/lib/python3.10/site-packages (from fiftyone) (10.2.0)\n",
            "Requirement already satisfied: plotly>=4.14 in /system/conda/miniconda3/envs/cloudspace/lib/python3.10/site-packages (from fiftyone) (5.20.0)\n",
            "Requirement already satisfied: pprintpp in /system/conda/miniconda3/envs/cloudspace/lib/python3.10/site-packages (from fiftyone) (0.4.0)\n",
            "Requirement already satisfied: psutil in /system/conda/miniconda3/envs/cloudspace/lib/python3.10/site-packages (from fiftyone) (5.9.8)\n",
            "Requirement already satisfied: pymongo>=3.12 in /system/conda/miniconda3/envs/cloudspace/lib/python3.10/site-packages (from fiftyone) (4.6.2)\n",
            "Requirement already satisfied: pytz in /system/conda/miniconda3/envs/cloudspace/lib/python3.10/site-packages (from fiftyone) (2024.1)\n",
            "Requirement already satisfied: PyYAML in /system/conda/miniconda3/envs/cloudspace/lib/python3.10/site-packages (from fiftyone) (6.0.1)\n",
            "Requirement already satisfied: regex in /system/conda/miniconda3/envs/cloudspace/lib/python3.10/site-packages (from fiftyone) (2023.12.25)\n",
            "Requirement already satisfied: retrying in /system/conda/miniconda3/envs/cloudspace/lib/python3.10/site-packages (from fiftyone) (1.3.4)\n",
            "Requirement already satisfied: scikit-learn in /system/conda/miniconda3/envs/cloudspace/lib/python3.10/site-packages (from fiftyone) (1.3.2)\n",
            "Requirement already satisfied: scikit-image in /system/conda/miniconda3/envs/cloudspace/lib/python3.10/site-packages (from fiftyone) (0.22.0)\n",
            "Requirement already satisfied: setuptools in /system/conda/miniconda3/envs/cloudspace/lib/python3.10/site-packages (from fiftyone) (68.2.2)\n",
            "Requirement already satisfied: sseclient-py<2,>=1.7.2 in /system/conda/miniconda3/envs/cloudspace/lib/python3.10/site-packages (from fiftyone) (1.8.0)\n",
            "Requirement already satisfied: sse-starlette<1,>=0.10.3 in /system/conda/miniconda3/envs/cloudspace/lib/python3.10/site-packages (from fiftyone) (0.10.3)\n",
            "Requirement already satisfied: starlette>=0.24.0 in /system/conda/miniconda3/envs/cloudspace/lib/python3.10/site-packages (from fiftyone) (0.36.3)\n",
            "Requirement already satisfied: strawberry-graphql==0.138.1 in /system/conda/miniconda3/envs/cloudspace/lib/python3.10/site-packages (from fiftyone) (0.138.1)\n",
            "Requirement already satisfied: tabulate in /system/conda/miniconda3/envs/cloudspace/lib/python3.10/site-packages (from fiftyone) (0.9.0)\n",
            "Requirement already satisfied: xmltodict in /system/conda/miniconda3/envs/cloudspace/lib/python3.10/site-packages (from fiftyone) (0.13.0)\n",
            "Requirement already satisfied: universal-analytics-python3<2,>=1.0.1 in /system/conda/miniconda3/envs/cloudspace/lib/python3.10/site-packages (from fiftyone) (1.1.1)\n",
            "Requirement already satisfied: fiftyone-brain<0.17,>=0.16.1 in /system/conda/miniconda3/envs/cloudspace/lib/python3.10/site-packages (from fiftyone) (0.16.1)\n",
            "Requirement already satisfied: fiftyone-db<2.0,>=0.4 in /system/conda/miniconda3/envs/cloudspace/lib/python3.10/site-packages (from fiftyone) (1.1.2)\n",
            "Requirement already satisfied: voxel51-eta<0.13,>=0.12.5 in /system/conda/miniconda3/envs/cloudspace/lib/python3.10/site-packages (from fiftyone) (0.12.6)\n",
            "Requirement already satisfied: opencv-python-headless in /system/conda/miniconda3/envs/cloudspace/lib/python3.10/site-packages (from fiftyone) (4.9.0.80)\n",
            "Requirement already satisfied: graphql-core<3.3.0,>=3.2.0 in /system/conda/miniconda3/envs/cloudspace/lib/python3.10/site-packages (from strawberry-graphql==0.138.1->fiftyone) (3.2.3)\n",
            "Requirement already satisfied: python-dateutil<3.0.0,>=2.7.0 in /system/conda/miniconda3/envs/cloudspace/lib/python3.10/site-packages (from strawberry-graphql==0.138.1->fiftyone) (2.9.0.post0)\n",
            "Requirement already satisfied: typing_extensions<5.0.0,>=3.7.4 in /system/conda/miniconda3/envs/cloudspace/lib/python3.10/site-packages (from strawberry-graphql==0.138.1->fiftyone) (4.10.0)\n",
            "Requirement already satisfied: scipy>=1.2.0 in /system/conda/miniconda3/envs/cloudspace/lib/python3.10/site-packages (from fiftyone-brain<0.17,>=0.16.1->fiftyone) (1.11.4)\n",
            "Requirement already satisfied: h11 in /system/conda/miniconda3/envs/cloudspace/lib/python3.10/site-packages (from hypercorn>=0.13.2->fiftyone) (0.14.0)\n",
            "Requirement already satisfied: h2>=3.1.0 in /system/conda/miniconda3/envs/cloudspace/lib/python3.10/site-packages (from hypercorn>=0.13.2->fiftyone) (4.1.0)\n",
            "Requirement already satisfied: priority in /system/conda/miniconda3/envs/cloudspace/lib/python3.10/site-packages (from hypercorn>=0.13.2->fiftyone) (2.0.0)\n",
            "Requirement already satisfied: taskgroup in /system/conda/miniconda3/envs/cloudspace/lib/python3.10/site-packages (from hypercorn>=0.13.2->fiftyone) (0.0.0a4)\n",
            "Requirement already satisfied: tomli in /system/conda/miniconda3/envs/cloudspace/lib/python3.10/site-packages (from hypercorn>=0.13.2->fiftyone) (2.0.1)\n",
            "Requirement already satisfied: wsproto>=0.14.0 in /system/conda/miniconda3/envs/cloudspace/lib/python3.10/site-packages (from hypercorn>=0.13.2->fiftyone) (1.2.0)\n",
            "Requirement already satisfied: MarkupSafe>=2.0 in /system/conda/miniconda3/envs/cloudspace/lib/python3.10/site-packages (from Jinja2>=3->fiftyone) (2.1.5)\n",
            "Requirement already satisfied: tenacity>=6.2.0 in /system/conda/miniconda3/envs/cloudspace/lib/python3.10/site-packages (from plotly>=4.14->fiftyone) (8.2.3)\n",
            "Requirement already satisfied: dnspython<3.0.0,>=1.16.0 in /system/conda/miniconda3/envs/cloudspace/lib/python3.10/site-packages (from pymongo>=3.12->fiftyone) (2.6.1)\n",
            "Requirement already satisfied: anyio<5,>=3.4.0 in /system/conda/miniconda3/envs/cloudspace/lib/python3.10/site-packages (from starlette>=0.24.0->fiftyone) (4.3.0)\n",
            "Requirement already satisfied: httpx>=0.10.0 in /system/conda/miniconda3/envs/cloudspace/lib/python3.10/site-packages (from universal-analytics-python3<2,>=1.0.1->fiftyone) (0.27.0)\n",
            "Requirement already satisfied: dill in /system/conda/miniconda3/envs/cloudspace/lib/python3.10/site-packages (from voxel51-eta<0.13,>=0.12.5->fiftyone) (0.3.8)\n",
            "Requirement already satisfied: future in /system/conda/miniconda3/envs/cloudspace/lib/python3.10/site-packages (from voxel51-eta<0.13,>=0.12.5->fiftyone) (1.0.0)\n",
            "Requirement already satisfied: glob2 in /system/conda/miniconda3/envs/cloudspace/lib/python3.10/site-packages (from voxel51-eta<0.13,>=0.12.5->fiftyone) (0.7)\n",
            "Requirement already satisfied: jsonlines in /system/conda/miniconda3/envs/cloudspace/lib/python3.10/site-packages (from voxel51-eta<0.13,>=0.12.5->fiftyone) (4.0.0)\n",
            "Requirement already satisfied: py7zr in /system/conda/miniconda3/envs/cloudspace/lib/python3.10/site-packages (from voxel51-eta<0.13,>=0.12.5->fiftyone) (0.21.0)\n",
            "Requirement already satisfied: rarfile in /system/conda/miniconda3/envs/cloudspace/lib/python3.10/site-packages (from voxel51-eta<0.13,>=0.12.5->fiftyone) (4.1)\n",
            "Requirement already satisfied: requests in /system/conda/miniconda3/envs/cloudspace/lib/python3.10/site-packages (from voxel51-eta<0.13,>=0.12.5->fiftyone) (2.31.0)\n",
            "Requirement already satisfied: six in /system/conda/miniconda3/envs/cloudspace/lib/python3.10/site-packages (from voxel51-eta<0.13,>=0.12.5->fiftyone) (1.16.0)\n",
            "Requirement already satisfied: sortedcontainers in /system/conda/miniconda3/envs/cloudspace/lib/python3.10/site-packages (from voxel51-eta<0.13,>=0.12.5->fiftyone) (2.4.0)\n",
            "Requirement already satisfied: tzlocal in /system/conda/miniconda3/envs/cloudspace/lib/python3.10/site-packages (from voxel51-eta<0.13,>=0.12.5->fiftyone) (5.2)\n",
            "Requirement already satisfied: urllib3 in /system/conda/miniconda3/envs/cloudspace/lib/python3.10/site-packages (from voxel51-eta<0.13,>=0.12.5->fiftyone) (2.0.7)\n",
            "Requirement already satisfied: soupsieve>1.2 in /system/conda/miniconda3/envs/cloudspace/lib/python3.10/site-packages (from beautifulsoup4->fiftyone) (2.5)\n",
            "Requirement already satisfied: botocore<1.35.0,>=1.34.61 in /system/conda/miniconda3/envs/cloudspace/lib/python3.10/site-packages (from boto3->fiftyone) (1.34.61)\n",
            "Requirement already satisfied: jmespath<2.0.0,>=0.7.1 in /system/conda/miniconda3/envs/cloudspace/lib/python3.10/site-packages (from boto3->fiftyone) (1.0.1)\n",
            "Requirement already satisfied: s3transfer<0.11.0,>=0.10.0 in /system/conda/miniconda3/envs/cloudspace/lib/python3.10/site-packages (from boto3->fiftyone) (0.10.0)\n",
            "Requirement already satisfied: wrapt<2,>=1.10 in /system/conda/miniconda3/envs/cloudspace/lib/python3.10/site-packages (from Deprecated->fiftyone) (1.16.0)\n",
            "Requirement already satisfied: wcwidth<0.3.0,>=0.2.12 in /system/conda/miniconda3/envs/cloudspace/lib/python3.10/site-packages (from ftfy->fiftyone) (0.2.13)\n",
            "Requirement already satisfied: contourpy>=1.0.1 in /system/conda/miniconda3/envs/cloudspace/lib/python3.10/site-packages (from matplotlib->fiftyone) (1.2.0)\n",
            "Requirement already satisfied: cycler>=0.10 in /system/conda/miniconda3/envs/cloudspace/lib/python3.10/site-packages (from matplotlib->fiftyone) (0.12.1)\n",
            "Requirement already satisfied: fonttools>=4.22.0 in /system/conda/miniconda3/envs/cloudspace/lib/python3.10/site-packages (from matplotlib->fiftyone) (4.49.0)\n",
            "Requirement already satisfied: kiwisolver>=1.3.1 in /system/conda/miniconda3/envs/cloudspace/lib/python3.10/site-packages (from matplotlib->fiftyone) (1.4.5)\n",
            "Requirement already satisfied: pyparsing>=2.3.1 in /system/conda/miniconda3/envs/cloudspace/lib/python3.10/site-packages (from matplotlib->fiftyone) (3.1.2)\n",
            "Requirement already satisfied: tzdata>=2022.1 in /system/conda/miniconda3/envs/cloudspace/lib/python3.10/site-packages (from pandas->fiftyone) (2024.1)\n",
            "Requirement already satisfied: networkx>=2.8 in /system/conda/miniconda3/envs/cloudspace/lib/python3.10/site-packages (from scikit-image->fiftyone) (3.2.1)\n",
            "Requirement already satisfied: imageio>=2.27 in /system/conda/miniconda3/envs/cloudspace/lib/python3.10/site-packages (from scikit-image->fiftyone) (2.34.0)\n",
            "Requirement already satisfied: tifffile>=2022.8.12 in /system/conda/miniconda3/envs/cloudspace/lib/python3.10/site-packages (from scikit-image->fiftyone) (2024.2.12)\n",
            "Requirement already satisfied: lazy_loader>=0.3 in /system/conda/miniconda3/envs/cloudspace/lib/python3.10/site-packages (from scikit-image->fiftyone) (0.3)\n",
            "Requirement already satisfied: joblib>=1.1.1 in /system/conda/miniconda3/envs/cloudspace/lib/python3.10/site-packages (from scikit-learn->fiftyone) (1.3.2)\n",
            "Requirement already satisfied: threadpoolctl>=2.0.0 in /system/conda/miniconda3/envs/cloudspace/lib/python3.10/site-packages (from scikit-learn->fiftyone) (3.3.0)\n",
            "Requirement already satisfied: idna>=2.8 in /system/conda/miniconda3/envs/cloudspace/lib/python3.10/site-packages (from anyio<5,>=3.4.0->starlette>=0.24.0->fiftyone) (3.6)\n",
            "Requirement already satisfied: sniffio>=1.1 in /system/conda/miniconda3/envs/cloudspace/lib/python3.10/site-packages (from anyio<5,>=3.4.0->starlette>=0.24.0->fiftyone) (1.3.1)\n",
            "Requirement already satisfied: exceptiongroup>=1.0.2 in /system/conda/miniconda3/envs/cloudspace/lib/python3.10/site-packages (from anyio<5,>=3.4.0->starlette>=0.24.0->fiftyone) (1.2.0)\n",
            "Requirement already satisfied: hyperframe<7,>=6.0 in /system/conda/miniconda3/envs/cloudspace/lib/python3.10/site-packages (from h2>=3.1.0->hypercorn>=0.13.2->fiftyone) (6.0.1)\n",
            "Requirement already satisfied: hpack<5,>=4.0 in /system/conda/miniconda3/envs/cloudspace/lib/python3.10/site-packages (from h2>=3.1.0->hypercorn>=0.13.2->fiftyone) (4.0.0)\n",
            "Requirement already satisfied: certifi in /system/conda/miniconda3/envs/cloudspace/lib/python3.10/site-packages (from httpx>=0.10.0->universal-analytics-python3<2,>=1.0.1->fiftyone) (2024.2.2)\n",
            "Requirement already satisfied: httpcore==1.* in /system/conda/miniconda3/envs/cloudspace/lib/python3.10/site-packages (from httpx>=0.10.0->universal-analytics-python3<2,>=1.0.1->fiftyone) (1.0.4)\n",
            "Requirement already satisfied: attrs>=19.2.0 in /system/conda/miniconda3/envs/cloudspace/lib/python3.10/site-packages (from jsonlines->voxel51-eta<0.13,>=0.12.5->fiftyone) (23.2.0)\n",
            "Requirement already satisfied: texttable in /system/conda/miniconda3/envs/cloudspace/lib/python3.10/site-packages (from py7zr->voxel51-eta<0.13,>=0.12.5->fiftyone) (1.7.0)\n",
            "Requirement already satisfied: pycryptodomex>=3.16.0 in /system/conda/miniconda3/envs/cloudspace/lib/python3.10/site-packages (from py7zr->voxel51-eta<0.13,>=0.12.5->fiftyone) (3.20.0)\n",
            "Requirement already satisfied: pyzstd>=0.15.9 in /system/conda/miniconda3/envs/cloudspace/lib/python3.10/site-packages (from py7zr->voxel51-eta<0.13,>=0.12.5->fiftyone) (0.15.9)\n",
            "Requirement already satisfied: pyppmd<1.2.0,>=1.1.0 in /system/conda/miniconda3/envs/cloudspace/lib/python3.10/site-packages (from py7zr->voxel51-eta<0.13,>=0.12.5->fiftyone) (1.1.0)\n",
            "Requirement already satisfied: pybcj<1.1.0,>=1.0.0 in /system/conda/miniconda3/envs/cloudspace/lib/python3.10/site-packages (from py7zr->voxel51-eta<0.13,>=0.12.5->fiftyone) (1.0.2)\n",
            "Requirement already satisfied: multivolumefile>=0.2.3 in /system/conda/miniconda3/envs/cloudspace/lib/python3.10/site-packages (from py7zr->voxel51-eta<0.13,>=0.12.5->fiftyone) (0.2.3)\n",
            "Requirement already satisfied: inflate64<1.1.0,>=1.0.0 in /system/conda/miniconda3/envs/cloudspace/lib/python3.10/site-packages (from py7zr->voxel51-eta<0.13,>=0.12.5->fiftyone) (1.0.0)\n",
            "Requirement already satisfied: brotli>=1.1.0 in /system/conda/miniconda3/envs/cloudspace/lib/python3.10/site-packages (from py7zr->voxel51-eta<0.13,>=0.12.5->fiftyone) (1.1.0)\n",
            "Requirement already satisfied: charset-normalizer<4,>=2 in /system/conda/miniconda3/envs/cloudspace/lib/python3.10/site-packages (from requests->voxel51-eta<0.13,>=0.12.5->fiftyone) (3.3.2)\n"
          ]
        }
      ],
      "source": [
        "!pip install fiftyone"
      ]
    },
    {
      "cell_type": "code",
      "execution_count": 11,
      "metadata": {
        "colab": {
          "base_uri": "https://localhost:8080/"
        },
        "id": "McDW296EYC27",
        "outputId": "5c9bcead-00e0-4907-e58e-dedc379cc7e2"
      },
      "outputs": [
        {
          "name": "stdout",
          "output_type": "stream",
          "text": [
            "Downloading split 'train' to '/teamspace/studios/this_studio/fiftyone/open-images-v7/train' if necessary\n",
            "Downloading 25 images\n",
            " 100% |█████████████████████| 25/25 [382.1ms elapsed, 0s remaining, 65.4 files/s]      \n",
            "Dataset info written to '/teamspace/studios/this_studio/fiftyone/open-images-v7/info.json'\n",
            "Loading 'open-images-v7' split 'train'\n",
            " 100% |███████████████████| 25/25 [3.2s elapsed, 0s remaining, 8.3 samples/s]      \n",
            "Dataset 'open-images-v7-train-25' created\n",
            "Downloading split 'validation' to '/teamspace/studios/this_studio/fiftyone/open-images-v7/validation' if necessary\n",
            "Necessary images already downloaded\n",
            "Existing download of split 'validation' is sufficient\n",
            "Loading 'open-images-v7' split 'validation'\n",
            " 100% |███████████████████| 25/25 [3.1s elapsed, 0s remaining, 8.1 samples/s]      \n",
            "Dataset 'open-images-v7-validation-25' created\n",
            "Downloading split 'test' to '/teamspace/studios/this_studio/fiftyone/open-images-v7/test' if necessary\n",
            "Found 8 images, downloading the remaining 17\n",
            " 100% |█████████████████████| 17/17 [282.6ms elapsed, 0s remaining, 60.2 files/s]     \n",
            "Dataset info written to '/teamspace/studios/this_studio/fiftyone/open-images-v7/info.json'\n",
            "Loading 'open-images-v7' split 'test'\n",
            " 100% |███████████████████| 25/25 [3.9s elapsed, 0s remaining, 5.7 samples/s]      \n",
            "Dataset 'open-images-v7-test-25' created\n"
          ]
        }
      ],
      "source": [
        "import fiftyone as fo\n",
        "import fiftyone.zoo as foz\n",
        "\n",
        "#\n",
        "# Load 50 random samples from the validation split\n",
        "#\n",
        "# Only the required images will be downloaded (if necessary).\n",
        "# By default, all label types are loaded\n",
        "#\n",
        "\n",
        "dataset = foz.load_zoo_dataset(\n",
        "    \"open-images-v7\",\n",
        "    split=\"train\",\n",
        "    max_samples=25,\n",
        "    classes=[\"Tortoise\", \"Sea turtle\"],\n",
        "    shuffle=True,\n",
        ")\n",
        "\n",
        "dataset_val = foz.load_zoo_dataset(\n",
        "    \"open-images-v7\",\n",
        "    split=\"validation\",\n",
        "    max_samples=25,\n",
        "    classes=[\"Tortoise\", \"Sea turtle\"],\n",
        "    shuffle=True,\n",
        ")\n",
        "\n",
        "dataset_test = foz.load_zoo_dataset(\n",
        "    \"open-images-v7\",\n",
        "    split=\"test\",\n",
        "    max_samples=25,\n",
        "    classes=[\"Tortoise\", \"Sea turtle\"],\n",
        "    shuffle=True,\n",
        ")\n",
        "\n",
        "\n",
        "# dataset_val = foz.load_zoo_dataset(\n",
        "#     \"open-images-v6\",\n",
        "#     split=\"val\",\n",
        "#     max_samples=25,\n",
        "#     shuffle=False,\n",
        "# )\n",
        "#session = fo.launch_app(dataset)\n",
        "\n",
        "# #\n",
        "# # Load detections and classifications for 25 samples from the\n",
        "# # validation split that contain fedoras and pianos\n",
        "# #\n",
        "# # Images that contain all `label_types` and `classes` will be\n",
        "# # prioritized first, followed by images that contain at least one of\n",
        "# # the required `classes`. If there are not enough images matching\n",
        "# # `classes` in the split to meet `max_samples`, only the available\n",
        "# # images will be loaded.\n",
        "# #\n",
        "# # Images will only be downloaded if necessary\n",
        "# #\n",
        "\n",
        "# dataset = foz.load_zoo_dataset(\n",
        "#     \"open-images-v6\",\n",
        "#     split=\"validation\",\n",
        "#     label_types=[\"detections\", \"classifications\"],\n",
        "#     classes=[\"Fedora\", \"Piano\"],\n",
        "#     max_samples=25,\n",
        "# )\n",
        "\n",
        "# session.dataset = dataset\n",
        "\n",
        "# #\n",
        "# # Download the entire validation split and load detections\n",
        "# #\n",
        "# # Subsequent partial loads of the validation split will never require\n",
        "# # downloading any images\n",
        "# #\n",
        "\n",
        "# dataset = foz.load_zoo_dataset(\n",
        "#     \"open-images-v6\",\n",
        "#     split=\"validation\",\n",
        "#     label_types=[\"detections\"],\n",
        "#     max_samples=25,\n",
        "# )\n",
        "\n",
        "# session.dataset = dataset"
      ]
    },
    {
      "cell_type": "code",
      "execution_count": null,
      "metadata": {
        "id": "om8Nb8ECtHbl"
      },
      "outputs": [],
      "source": [
        "# fiftyone.utils.openimages.get_classes(version='v6', dataset_dir=None)"
      ]
    },
    {
      "cell_type": "code",
      "execution_count": null,
      "metadata": {
        "id": "E0uGoaf9AoJX"
      },
      "outputs": [],
      "source": [
        "# import fiftyone.utils.random as four\n",
        "\n",
        "# four.random_split(dataset, {\"train\": 0.8, \"val\": 0.2})"
      ]
    },
    {
      "cell_type": "code",
      "execution_count": 12,
      "metadata": {
        "id": "v8fb-MA5hXAZ"
      },
      "outputs": [
        {
          "data": {
            "text/plain": [
              "Name:        open-images-v7-train-25\n",
              "Media type:  image\n",
              "Num samples: 25\n",
              "Persistent:  False\n",
              "Tags:        []\n",
              "Sample fields:\n",
              "    id:              fiftyone.core.fields.ObjectIdField\n",
              "    filepath:        fiftyone.core.fields.StringField\n",
              "    tags:            fiftyone.core.fields.ListField(fiftyone.core.fields.StringField)\n",
              "    metadata:        fiftyone.core.fields.EmbeddedDocumentField(fiftyone.core.metadata.ImageMetadata)\n",
              "    positive_labels: fiftyone.core.fields.EmbeddedDocumentField(fiftyone.core.labels.Classifications)\n",
              "    negative_labels: fiftyone.core.fields.EmbeddedDocumentField(fiftyone.core.labels.Classifications)\n",
              "    detections:      fiftyone.core.fields.EmbeddedDocumentField(fiftyone.core.labels.Detections)\n",
              "    points:          fiftyone.core.fields.EmbeddedDocumentField(fiftyone.core.labels.Keypoints)\n",
              "    segmentations:   fiftyone.core.fields.EmbeddedDocumentField(fiftyone.core.labels.Detections)"
            ]
          },
          "execution_count": 12,
          "metadata": {},
          "output_type": "execute_result"
        }
      ],
      "source": [
        "dataset"
      ]
    },
    {
      "cell_type": "code",
      "execution_count": 13,
      "metadata": {
        "id": "01WK6mtxuJ9N"
      },
      "outputs": [
        {
          "data": {
            "text/plain": [
              "Name:        open-images-v7-validation-25\n",
              "Media type:  image\n",
              "Num samples: 25\n",
              "Persistent:  False\n",
              "Tags:        []\n",
              "Sample fields:\n",
              "    id:              fiftyone.core.fields.ObjectIdField\n",
              "    filepath:        fiftyone.core.fields.StringField\n",
              "    tags:            fiftyone.core.fields.ListField(fiftyone.core.fields.StringField)\n",
              "    metadata:        fiftyone.core.fields.EmbeddedDocumentField(fiftyone.core.metadata.ImageMetadata)\n",
              "    positive_labels: fiftyone.core.fields.EmbeddedDocumentField(fiftyone.core.labels.Classifications)\n",
              "    negative_labels: fiftyone.core.fields.EmbeddedDocumentField(fiftyone.core.labels.Classifications)\n",
              "    detections:      fiftyone.core.fields.EmbeddedDocumentField(fiftyone.core.labels.Detections)\n",
              "    points:          fiftyone.core.fields.EmbeddedDocumentField(fiftyone.core.labels.Keypoints)\n",
              "    segmentations:   fiftyone.core.fields.EmbeddedDocumentField(fiftyone.core.labels.Detections)"
            ]
          },
          "execution_count": 13,
          "metadata": {},
          "output_type": "execute_result"
        }
      ],
      "source": [
        " dataset_val"
      ]
    },
    {
      "cell_type": "code",
      "execution_count": 14,
      "metadata": {},
      "outputs": [
        {
          "data": {
            "text/plain": [
              "Name:        open-images-v7-test-25\n",
              "Media type:  image\n",
              "Num samples: 25\n",
              "Persistent:  False\n",
              "Tags:        []\n",
              "Sample fields:\n",
              "    id:              fiftyone.core.fields.ObjectIdField\n",
              "    filepath:        fiftyone.core.fields.StringField\n",
              "    tags:            fiftyone.core.fields.ListField(fiftyone.core.fields.StringField)\n",
              "    metadata:        fiftyone.core.fields.EmbeddedDocumentField(fiftyone.core.metadata.ImageMetadata)\n",
              "    positive_labels: fiftyone.core.fields.EmbeddedDocumentField(fiftyone.core.labels.Classifications)\n",
              "    negative_labels: fiftyone.core.fields.EmbeddedDocumentField(fiftyone.core.labels.Classifications)\n",
              "    detections:      fiftyone.core.fields.EmbeddedDocumentField(fiftyone.core.labels.Detections)\n",
              "    points:          fiftyone.core.fields.EmbeddedDocumentField(fiftyone.core.labels.Keypoints)\n",
              "    segmentations:   fiftyone.core.fields.EmbeddedDocumentField(fiftyone.core.labels.Detections)"
            ]
          },
          "execution_count": 14,
          "metadata": {},
          "output_type": "execute_result"
        }
      ],
      "source": [
        "dataset_test"
      ]
    },
    {
      "cell_type": "code",
      "execution_count": 15,
      "metadata": {
        "colab": {
          "base_uri": "https://localhost:8080/"
        },
        "id": "RMUeCHSYAoLp",
        "outputId": "71629782-27aa-46ea-f035-17324cc045e0"
      },
      "outputs": [
        {
          "name": "stdout",
          "output_type": "stream",
          "text": [
            "Requirement already satisfied: fiftyone in /system/conda/miniconda3/envs/cloudspace/lib/python3.10/site-packages (0.23.6)\n",
            "Requirement already satisfied: ultralytics in /system/conda/miniconda3/envs/cloudspace/lib/python3.10/site-packages (8.1.29)\n",
            "Requirement already satisfied: aiofiles in /system/conda/miniconda3/envs/cloudspace/lib/python3.10/site-packages (from fiftyone) (23.2.1)\n",
            "Requirement already satisfied: argcomplete in /system/conda/miniconda3/envs/cloudspace/lib/python3.10/site-packages (from fiftyone) (3.2.3)\n",
            "Requirement already satisfied: beautifulsoup4 in /system/conda/miniconda3/envs/cloudspace/lib/python3.10/site-packages (from fiftyone) (4.12.3)\n",
            "Requirement already satisfied: boto3 in /system/conda/miniconda3/envs/cloudspace/lib/python3.10/site-packages (from fiftyone) (1.34.61)\n",
            "Requirement already satisfied: cachetools in /system/conda/miniconda3/envs/cloudspace/lib/python3.10/site-packages (from fiftyone) (5.3.3)\n",
            "Requirement already satisfied: dacite<1.8.0,>=1.6.0 in /system/conda/miniconda3/envs/cloudspace/lib/python3.10/site-packages (from fiftyone) (1.7.0)\n",
            "Requirement already satisfied: Deprecated in /system/conda/miniconda3/envs/cloudspace/lib/python3.10/site-packages (from fiftyone) (1.2.14)\n",
            "Requirement already satisfied: ftfy in /system/conda/miniconda3/envs/cloudspace/lib/python3.10/site-packages (from fiftyone) (6.2.0)\n",
            "Requirement already satisfied: humanize in /system/conda/miniconda3/envs/cloudspace/lib/python3.10/site-packages (from fiftyone) (4.9.0)\n",
            "Requirement already satisfied: hypercorn>=0.13.2 in /system/conda/miniconda3/envs/cloudspace/lib/python3.10/site-packages (from fiftyone) (0.16.0)\n",
            "Requirement already satisfied: Jinja2>=3 in /system/conda/miniconda3/envs/cloudspace/lib/python3.10/site-packages (from fiftyone) (3.1.3)\n",
            "Requirement already satisfied: kaleido!=0.2.1.post1 in /system/conda/miniconda3/envs/cloudspace/lib/python3.10/site-packages (from fiftyone) (0.2.1)\n",
            "Requirement already satisfied: matplotlib in /system/conda/miniconda3/envs/cloudspace/lib/python3.10/site-packages (from fiftyone) (3.8.2)\n",
            "Requirement already satisfied: mongoengine==0.24.2 in /system/conda/miniconda3/envs/cloudspace/lib/python3.10/site-packages (from fiftyone) (0.24.2)\n",
            "Requirement already satisfied: motor>=2.5 in /system/conda/miniconda3/envs/cloudspace/lib/python3.10/site-packages (from fiftyone) (3.3.2)\n",
            "Requirement already satisfied: numpy in /system/conda/miniconda3/envs/cloudspace/lib/python3.10/site-packages (from fiftyone) (1.26.2)\n",
            "Requirement already satisfied: packaging in /system/conda/miniconda3/envs/cloudspace/lib/python3.10/site-packages (from fiftyone) (24.0)\n",
            "Requirement already satisfied: pandas in /system/conda/miniconda3/envs/cloudspace/lib/python3.10/site-packages (from fiftyone) (2.1.4)\n",
            "Requirement already satisfied: Pillow>=6.2 in /system/conda/miniconda3/envs/cloudspace/lib/python3.10/site-packages (from fiftyone) (10.2.0)\n",
            "Requirement already satisfied: plotly>=4.14 in /system/conda/miniconda3/envs/cloudspace/lib/python3.10/site-packages (from fiftyone) (5.20.0)\n",
            "Requirement already satisfied: pprintpp in /system/conda/miniconda3/envs/cloudspace/lib/python3.10/site-packages (from fiftyone) (0.4.0)\n",
            "Requirement already satisfied: psutil in /system/conda/miniconda3/envs/cloudspace/lib/python3.10/site-packages (from fiftyone) (5.9.8)\n",
            "Requirement already satisfied: pymongo>=3.12 in /system/conda/miniconda3/envs/cloudspace/lib/python3.10/site-packages (from fiftyone) (4.6.2)\n",
            "Requirement already satisfied: pytz in /system/conda/miniconda3/envs/cloudspace/lib/python3.10/site-packages (from fiftyone) (2024.1)\n",
            "Requirement already satisfied: PyYAML in /system/conda/miniconda3/envs/cloudspace/lib/python3.10/site-packages (from fiftyone) (6.0.1)\n",
            "Requirement already satisfied: regex in /system/conda/miniconda3/envs/cloudspace/lib/python3.10/site-packages (from fiftyone) (2023.12.25)\n",
            "Requirement already satisfied: retrying in /system/conda/miniconda3/envs/cloudspace/lib/python3.10/site-packages (from fiftyone) (1.3.4)\n",
            "Requirement already satisfied: scikit-learn in /system/conda/miniconda3/envs/cloudspace/lib/python3.10/site-packages (from fiftyone) (1.3.2)\n",
            "Requirement already satisfied: scikit-image in /system/conda/miniconda3/envs/cloudspace/lib/python3.10/site-packages (from fiftyone) (0.22.0)\n",
            "Requirement already satisfied: setuptools in /system/conda/miniconda3/envs/cloudspace/lib/python3.10/site-packages (from fiftyone) (68.2.2)\n",
            "Requirement already satisfied: sseclient-py<2,>=1.7.2 in /system/conda/miniconda3/envs/cloudspace/lib/python3.10/site-packages (from fiftyone) (1.8.0)\n",
            "Requirement already satisfied: sse-starlette<1,>=0.10.3 in /system/conda/miniconda3/envs/cloudspace/lib/python3.10/site-packages (from fiftyone) (0.10.3)\n",
            "Requirement already satisfied: starlette>=0.24.0 in /system/conda/miniconda3/envs/cloudspace/lib/python3.10/site-packages (from fiftyone) (0.36.3)\n",
            "Requirement already satisfied: strawberry-graphql==0.138.1 in /system/conda/miniconda3/envs/cloudspace/lib/python3.10/site-packages (from fiftyone) (0.138.1)\n",
            "Requirement already satisfied: tabulate in /system/conda/miniconda3/envs/cloudspace/lib/python3.10/site-packages (from fiftyone) (0.9.0)\n",
            "Requirement already satisfied: xmltodict in /system/conda/miniconda3/envs/cloudspace/lib/python3.10/site-packages (from fiftyone) (0.13.0)\n",
            "Requirement already satisfied: universal-analytics-python3<2,>=1.0.1 in /system/conda/miniconda3/envs/cloudspace/lib/python3.10/site-packages (from fiftyone) (1.1.1)\n",
            "Requirement already satisfied: fiftyone-brain<0.17,>=0.16.1 in /system/conda/miniconda3/envs/cloudspace/lib/python3.10/site-packages (from fiftyone) (0.16.1)\n",
            "Requirement already satisfied: fiftyone-db<2.0,>=0.4 in /system/conda/miniconda3/envs/cloudspace/lib/python3.10/site-packages (from fiftyone) (1.1.2)\n",
            "Requirement already satisfied: voxel51-eta<0.13,>=0.12.5 in /system/conda/miniconda3/envs/cloudspace/lib/python3.10/site-packages (from fiftyone) (0.12.6)\n",
            "Requirement already satisfied: opencv-python-headless in /system/conda/miniconda3/envs/cloudspace/lib/python3.10/site-packages (from fiftyone) (4.9.0.80)\n",
            "Requirement already satisfied: graphql-core<3.3.0,>=3.2.0 in /system/conda/miniconda3/envs/cloudspace/lib/python3.10/site-packages (from strawberry-graphql==0.138.1->fiftyone) (3.2.3)\n",
            "Requirement already satisfied: python-dateutil<3.0.0,>=2.7.0 in /system/conda/miniconda3/envs/cloudspace/lib/python3.10/site-packages (from strawberry-graphql==0.138.1->fiftyone) (2.9.0.post0)\n",
            "Requirement already satisfied: typing_extensions<5.0.0,>=3.7.4 in /system/conda/miniconda3/envs/cloudspace/lib/python3.10/site-packages (from strawberry-graphql==0.138.1->fiftyone) (4.10.0)\n",
            "Requirement already satisfied: opencv-python>=4.6.0 in /system/conda/miniconda3/envs/cloudspace/lib/python3.10/site-packages (from ultralytics) (4.9.0.80)\n",
            "Requirement already satisfied: requests>=2.23.0 in /system/conda/miniconda3/envs/cloudspace/lib/python3.10/site-packages (from ultralytics) (2.31.0)\n",
            "Requirement already satisfied: scipy>=1.4.1 in /system/conda/miniconda3/envs/cloudspace/lib/python3.10/site-packages (from ultralytics) (1.11.4)\n",
            "Requirement already satisfied: torch>=1.8.0 in /system/conda/miniconda3/envs/cloudspace/lib/python3.10/site-packages (from ultralytics) (2.2.1)\n",
            "Requirement already satisfied: torchvision>=0.9.0 in /system/conda/miniconda3/envs/cloudspace/lib/python3.10/site-packages (from ultralytics) (0.17.1)\n",
            "Requirement already satisfied: tqdm>=4.64.0 in /system/conda/miniconda3/envs/cloudspace/lib/python3.10/site-packages (from ultralytics) (4.66.2)\n",
            "Requirement already satisfied: py-cpuinfo in /system/conda/miniconda3/envs/cloudspace/lib/python3.10/site-packages (from ultralytics) (9.0.0)\n",
            "Requirement already satisfied: thop>=0.1.1 in /system/conda/miniconda3/envs/cloudspace/lib/python3.10/site-packages (from ultralytics) (0.1.1.post2209072238)\n",
            "Requirement already satisfied: seaborn>=0.11.0 in /system/conda/miniconda3/envs/cloudspace/lib/python3.10/site-packages (from ultralytics) (0.13.2)\n",
            "Requirement already satisfied: h11 in /system/conda/miniconda3/envs/cloudspace/lib/python3.10/site-packages (from hypercorn>=0.13.2->fiftyone) (0.14.0)\n",
            "Requirement already satisfied: h2>=3.1.0 in /system/conda/miniconda3/envs/cloudspace/lib/python3.10/site-packages (from hypercorn>=0.13.2->fiftyone) (4.1.0)\n",
            "Requirement already satisfied: priority in /system/conda/miniconda3/envs/cloudspace/lib/python3.10/site-packages (from hypercorn>=0.13.2->fiftyone) (2.0.0)\n",
            "Requirement already satisfied: taskgroup in /system/conda/miniconda3/envs/cloudspace/lib/python3.10/site-packages (from hypercorn>=0.13.2->fiftyone) (0.0.0a4)\n",
            "Requirement already satisfied: tomli in /system/conda/miniconda3/envs/cloudspace/lib/python3.10/site-packages (from hypercorn>=0.13.2->fiftyone) (2.0.1)\n",
            "Requirement already satisfied: wsproto>=0.14.0 in /system/conda/miniconda3/envs/cloudspace/lib/python3.10/site-packages (from hypercorn>=0.13.2->fiftyone) (1.2.0)\n",
            "Requirement already satisfied: MarkupSafe>=2.0 in /system/conda/miniconda3/envs/cloudspace/lib/python3.10/site-packages (from Jinja2>=3->fiftyone) (2.1.5)\n",
            "Requirement already satisfied: contourpy>=1.0.1 in /system/conda/miniconda3/envs/cloudspace/lib/python3.10/site-packages (from matplotlib->fiftyone) (1.2.0)\n",
            "Requirement already satisfied: cycler>=0.10 in /system/conda/miniconda3/envs/cloudspace/lib/python3.10/site-packages (from matplotlib->fiftyone) (0.12.1)\n",
            "Requirement already satisfied: fonttools>=4.22.0 in /system/conda/miniconda3/envs/cloudspace/lib/python3.10/site-packages (from matplotlib->fiftyone) (4.49.0)\n",
            "Requirement already satisfied: kiwisolver>=1.3.1 in /system/conda/miniconda3/envs/cloudspace/lib/python3.10/site-packages (from matplotlib->fiftyone) (1.4.5)\n",
            "Requirement already satisfied: pyparsing>=2.3.1 in /system/conda/miniconda3/envs/cloudspace/lib/python3.10/site-packages (from matplotlib->fiftyone) (3.1.2)\n",
            "Requirement already satisfied: tzdata>=2022.1 in /system/conda/miniconda3/envs/cloudspace/lib/python3.10/site-packages (from pandas->fiftyone) (2024.1)\n",
            "Requirement already satisfied: tenacity>=6.2.0 in /system/conda/miniconda3/envs/cloudspace/lib/python3.10/site-packages (from plotly>=4.14->fiftyone) (8.2.3)\n",
            "Requirement already satisfied: dnspython<3.0.0,>=1.16.0 in /system/conda/miniconda3/envs/cloudspace/lib/python3.10/site-packages (from pymongo>=3.12->fiftyone) (2.6.1)\n",
            "Requirement already satisfied: charset-normalizer<4,>=2 in /system/conda/miniconda3/envs/cloudspace/lib/python3.10/site-packages (from requests>=2.23.0->ultralytics) (3.3.2)\n",
            "Requirement already satisfied: idna<4,>=2.5 in /system/conda/miniconda3/envs/cloudspace/lib/python3.10/site-packages (from requests>=2.23.0->ultralytics) (3.6)\n",
            "Requirement already satisfied: urllib3<3,>=1.21.1 in /system/conda/miniconda3/envs/cloudspace/lib/python3.10/site-packages (from requests>=2.23.0->ultralytics) (2.0.7)\n",
            "Requirement already satisfied: certifi>=2017.4.17 in /system/conda/miniconda3/envs/cloudspace/lib/python3.10/site-packages (from requests>=2.23.0->ultralytics) (2024.2.2)\n",
            "Requirement already satisfied: anyio<5,>=3.4.0 in /system/conda/miniconda3/envs/cloudspace/lib/python3.10/site-packages (from starlette>=0.24.0->fiftyone) (4.3.0)\n",
            "Requirement already satisfied: filelock in /system/conda/miniconda3/envs/cloudspace/lib/python3.10/site-packages (from torch>=1.8.0->ultralytics) (3.13.1)\n",
            "Requirement already satisfied: sympy in /system/conda/miniconda3/envs/cloudspace/lib/python3.10/site-packages (from torch>=1.8.0->ultralytics) (1.12)\n",
            "Requirement already satisfied: networkx in /system/conda/miniconda3/envs/cloudspace/lib/python3.10/site-packages (from torch>=1.8.0->ultralytics) (3.2.1)\n",
            "Requirement already satisfied: fsspec in /system/conda/miniconda3/envs/cloudspace/lib/python3.10/site-packages (from torch>=1.8.0->ultralytics) (2024.2.0)\n",
            "Requirement already satisfied: nvidia-cuda-nvrtc-cu12==12.1.105 in /system/conda/miniconda3/envs/cloudspace/lib/python3.10/site-packages (from torch>=1.8.0->ultralytics) (12.1.105)\n",
            "Requirement already satisfied: nvidia-cuda-runtime-cu12==12.1.105 in /system/conda/miniconda3/envs/cloudspace/lib/python3.10/site-packages (from torch>=1.8.0->ultralytics) (12.1.105)\n",
            "Requirement already satisfied: nvidia-cuda-cupti-cu12==12.1.105 in /system/conda/miniconda3/envs/cloudspace/lib/python3.10/site-packages (from torch>=1.8.0->ultralytics) (12.1.105)\n",
            "Requirement already satisfied: nvidia-cudnn-cu12==8.9.2.26 in /system/conda/miniconda3/envs/cloudspace/lib/python3.10/site-packages (from torch>=1.8.0->ultralytics) (8.9.2.26)\n",
            "Requirement already satisfied: nvidia-cublas-cu12==12.1.3.1 in /system/conda/miniconda3/envs/cloudspace/lib/python3.10/site-packages (from torch>=1.8.0->ultralytics) (12.1.3.1)\n",
            "Requirement already satisfied: nvidia-cufft-cu12==11.0.2.54 in /system/conda/miniconda3/envs/cloudspace/lib/python3.10/site-packages (from torch>=1.8.0->ultralytics) (11.0.2.54)\n",
            "Requirement already satisfied: nvidia-curand-cu12==10.3.2.106 in /system/conda/miniconda3/envs/cloudspace/lib/python3.10/site-packages (from torch>=1.8.0->ultralytics) (10.3.2.106)\n",
            "Requirement already satisfied: nvidia-cusolver-cu12==11.4.5.107 in /system/conda/miniconda3/envs/cloudspace/lib/python3.10/site-packages (from torch>=1.8.0->ultralytics) (11.4.5.107)\n",
            "Requirement already satisfied: nvidia-cusparse-cu12==12.1.0.106 in /system/conda/miniconda3/envs/cloudspace/lib/python3.10/site-packages (from torch>=1.8.0->ultralytics) (12.1.0.106)\n",
            "Requirement already satisfied: nvidia-nccl-cu12==2.19.3 in /system/conda/miniconda3/envs/cloudspace/lib/python3.10/site-packages (from torch>=1.8.0->ultralytics) (2.19.3)\n",
            "Requirement already satisfied: nvidia-nvtx-cu12==12.1.105 in /system/conda/miniconda3/envs/cloudspace/lib/python3.10/site-packages (from torch>=1.8.0->ultralytics) (12.1.105)\n",
            "Requirement already satisfied: triton==2.2.0 in /system/conda/miniconda3/envs/cloudspace/lib/python3.10/site-packages (from torch>=1.8.0->ultralytics) (2.2.0)\n",
            "Requirement already satisfied: nvidia-nvjitlink-cu12 in /system/conda/miniconda3/envs/cloudspace/lib/python3.10/site-packages (from nvidia-cusolver-cu12==11.4.5.107->torch>=1.8.0->ultralytics) (12.4.99)\n",
            "Requirement already satisfied: httpx>=0.10.0 in /system/conda/miniconda3/envs/cloudspace/lib/python3.10/site-packages (from universal-analytics-python3<2,>=1.0.1->fiftyone) (0.27.0)\n",
            "Requirement already satisfied: dill in /system/conda/miniconda3/envs/cloudspace/lib/python3.10/site-packages (from voxel51-eta<0.13,>=0.12.5->fiftyone) (0.3.8)\n",
            "Requirement already satisfied: future in /system/conda/miniconda3/envs/cloudspace/lib/python3.10/site-packages (from voxel51-eta<0.13,>=0.12.5->fiftyone) (1.0.0)\n",
            "Requirement already satisfied: glob2 in /system/conda/miniconda3/envs/cloudspace/lib/python3.10/site-packages (from voxel51-eta<0.13,>=0.12.5->fiftyone) (0.7)\n",
            "Requirement already satisfied: jsonlines in /system/conda/miniconda3/envs/cloudspace/lib/python3.10/site-packages (from voxel51-eta<0.13,>=0.12.5->fiftyone) (4.0.0)\n",
            "Requirement already satisfied: py7zr in /system/conda/miniconda3/envs/cloudspace/lib/python3.10/site-packages (from voxel51-eta<0.13,>=0.12.5->fiftyone) (0.21.0)\n",
            "Requirement already satisfied: rarfile in /system/conda/miniconda3/envs/cloudspace/lib/python3.10/site-packages (from voxel51-eta<0.13,>=0.12.5->fiftyone) (4.1)\n",
            "Requirement already satisfied: six in /system/conda/miniconda3/envs/cloudspace/lib/python3.10/site-packages (from voxel51-eta<0.13,>=0.12.5->fiftyone) (1.16.0)\n",
            "Requirement already satisfied: sortedcontainers in /system/conda/miniconda3/envs/cloudspace/lib/python3.10/site-packages (from voxel51-eta<0.13,>=0.12.5->fiftyone) (2.4.0)\n",
            "Requirement already satisfied: tzlocal in /system/conda/miniconda3/envs/cloudspace/lib/python3.10/site-packages (from voxel51-eta<0.13,>=0.12.5->fiftyone) (5.2)\n",
            "Requirement already satisfied: soupsieve>1.2 in /system/conda/miniconda3/envs/cloudspace/lib/python3.10/site-packages (from beautifulsoup4->fiftyone) (2.5)\n",
            "Requirement already satisfied: botocore<1.35.0,>=1.34.61 in /system/conda/miniconda3/envs/cloudspace/lib/python3.10/site-packages (from boto3->fiftyone) (1.34.61)\n",
            "Requirement already satisfied: jmespath<2.0.0,>=0.7.1 in /system/conda/miniconda3/envs/cloudspace/lib/python3.10/site-packages (from boto3->fiftyone) (1.0.1)\n",
            "Requirement already satisfied: s3transfer<0.11.0,>=0.10.0 in /system/conda/miniconda3/envs/cloudspace/lib/python3.10/site-packages (from boto3->fiftyone) (0.10.0)\n",
            "Requirement already satisfied: wrapt<2,>=1.10 in /system/conda/miniconda3/envs/cloudspace/lib/python3.10/site-packages (from Deprecated->fiftyone) (1.16.0)\n",
            "Requirement already satisfied: wcwidth<0.3.0,>=0.2.12 in /system/conda/miniconda3/envs/cloudspace/lib/python3.10/site-packages (from ftfy->fiftyone) (0.2.13)\n",
            "Requirement already satisfied: imageio>=2.27 in /system/conda/miniconda3/envs/cloudspace/lib/python3.10/site-packages (from scikit-image->fiftyone) (2.34.0)\n",
            "Requirement already satisfied: tifffile>=2022.8.12 in /system/conda/miniconda3/envs/cloudspace/lib/python3.10/site-packages (from scikit-image->fiftyone) (2024.2.12)\n",
            "Requirement already satisfied: lazy_loader>=0.3 in /system/conda/miniconda3/envs/cloudspace/lib/python3.10/site-packages (from scikit-image->fiftyone) (0.3)\n",
            "Requirement already satisfied: joblib>=1.1.1 in /system/conda/miniconda3/envs/cloudspace/lib/python3.10/site-packages (from scikit-learn->fiftyone) (1.3.2)\n",
            "Requirement already satisfied: threadpoolctl>=2.0.0 in /system/conda/miniconda3/envs/cloudspace/lib/python3.10/site-packages (from scikit-learn->fiftyone) (3.3.0)\n",
            "Requirement already satisfied: sniffio>=1.1 in /system/conda/miniconda3/envs/cloudspace/lib/python3.10/site-packages (from anyio<5,>=3.4.0->starlette>=0.24.0->fiftyone) (1.3.1)\n",
            "Requirement already satisfied: exceptiongroup>=1.0.2 in /system/conda/miniconda3/envs/cloudspace/lib/python3.10/site-packages (from anyio<5,>=3.4.0->starlette>=0.24.0->fiftyone) (1.2.0)\n",
            "Requirement already satisfied: hyperframe<7,>=6.0 in /system/conda/miniconda3/envs/cloudspace/lib/python3.10/site-packages (from h2>=3.1.0->hypercorn>=0.13.2->fiftyone) (6.0.1)\n",
            "Requirement already satisfied: hpack<5,>=4.0 in /system/conda/miniconda3/envs/cloudspace/lib/python3.10/site-packages (from h2>=3.1.0->hypercorn>=0.13.2->fiftyone) (4.0.0)\n",
            "Requirement already satisfied: httpcore==1.* in /system/conda/miniconda3/envs/cloudspace/lib/python3.10/site-packages (from httpx>=0.10.0->universal-analytics-python3<2,>=1.0.1->fiftyone) (1.0.4)\n",
            "Requirement already satisfied: attrs>=19.2.0 in /system/conda/miniconda3/envs/cloudspace/lib/python3.10/site-packages (from jsonlines->voxel51-eta<0.13,>=0.12.5->fiftyone) (23.2.0)\n",
            "Requirement already satisfied: texttable in /system/conda/miniconda3/envs/cloudspace/lib/python3.10/site-packages (from py7zr->voxel51-eta<0.13,>=0.12.5->fiftyone) (1.7.0)\n",
            "Requirement already satisfied: pycryptodomex>=3.16.0 in /system/conda/miniconda3/envs/cloudspace/lib/python3.10/site-packages (from py7zr->voxel51-eta<0.13,>=0.12.5->fiftyone) (3.20.0)\n",
            "Requirement already satisfied: pyzstd>=0.15.9 in /system/conda/miniconda3/envs/cloudspace/lib/python3.10/site-packages (from py7zr->voxel51-eta<0.13,>=0.12.5->fiftyone) (0.15.9)\n",
            "Requirement already satisfied: pyppmd<1.2.0,>=1.1.0 in /system/conda/miniconda3/envs/cloudspace/lib/python3.10/site-packages (from py7zr->voxel51-eta<0.13,>=0.12.5->fiftyone) (1.1.0)\n",
            "Requirement already satisfied: pybcj<1.1.0,>=1.0.0 in /system/conda/miniconda3/envs/cloudspace/lib/python3.10/site-packages (from py7zr->voxel51-eta<0.13,>=0.12.5->fiftyone) (1.0.2)\n",
            "Requirement already satisfied: multivolumefile>=0.2.3 in /system/conda/miniconda3/envs/cloudspace/lib/python3.10/site-packages (from py7zr->voxel51-eta<0.13,>=0.12.5->fiftyone) (0.2.3)\n",
            "Requirement already satisfied: inflate64<1.1.0,>=1.0.0 in /system/conda/miniconda3/envs/cloudspace/lib/python3.10/site-packages (from py7zr->voxel51-eta<0.13,>=0.12.5->fiftyone) (1.0.0)\n",
            "Requirement already satisfied: brotli>=1.1.0 in /system/conda/miniconda3/envs/cloudspace/lib/python3.10/site-packages (from py7zr->voxel51-eta<0.13,>=0.12.5->fiftyone) (1.1.0)\n",
            "Requirement already satisfied: mpmath>=0.19 in /system/conda/miniconda3/envs/cloudspace/lib/python3.10/site-packages (from sympy->torch>=1.8.0->ultralytics) (1.3.0)\n"
          ]
        }
      ],
      "source": [
        "!pip install fiftyone ultralytics"
      ]
    },
    {
      "cell_type": "code",
      "execution_count": 16,
      "metadata": {
        "id": "JxD9qV-7AoOY"
      },
      "outputs": [],
      "source": [
        "import numpy as np\n",
        "import os\n",
        "from tqdm import tqdm"
      ]
    },
    {
      "cell_type": "code",
      "execution_count": 17,
      "metadata": {
        "id": "KezDyLkaAoQ3"
      },
      "outputs": [],
      "source": [
        "import fiftyone as fo\n",
        "import fiftyone.zoo as foz\n",
        "from fiftyone import ViewField as F"
      ]
    },
    {
      "cell_type": "code",
      "execution_count": 4,
      "metadata": {
        "id": "dreFRbEEf6fm"
      },
      "outputs": [],
      "source": [
        "from ultralytics import YOLO\n",
        "\n",
        "detection_model = YOLO(\"yolov8s.pt\")\n",
        "#seg_model = YOLO(\"yolov8n-seg.pt\")"
      ]
    },
    {
      "cell_type": "code",
      "execution_count": 23,
      "metadata": {
        "id": "lCy2Hsy_gjgr"
      },
      "outputs": [],
      "source": [
        "# OpenImg_classes_train = [c for c in dataset.default_classes if not c.isnumeric()]"
      ]
    },
    {
      "cell_type": "code",
      "execution_count": 21,
      "metadata": {},
      "outputs": [],
      "source": [
        "# OpenImg_classes_val = [c for c in dataset_val.default_classes if not c.isnumeric()]"
      ]
    },
    {
      "cell_type": "code",
      "execution_count": 19,
      "metadata": {},
      "outputs": [],
      "source": [
        "# OpenImg_classes_test = [c for c in dataset_test.default_classes if not c.isnumeric()]"
      ]
    },
    {
      "cell_type": "code",
      "execution_count": 27,
      "metadata": {
        "id": "3vBjY4xzgjl5"
      },
      "outputs": [],
      "source": [
        "# def export_yolo_data(\n",
        "#     samples,\n",
        "#     export_dir,\n",
        "#     classes,\n",
        "#     label_field = \"detections\",\n",
        "#     split = None\n",
        "#     ):\n",
        "\n",
        "#     if type(split) == list:\n",
        "#         splits = split\n",
        "#         for split in splits:\n",
        "#             export_yolo_data(\n",
        "#                 samples,\n",
        "#                 export_dir,\n",
        "#                 classes,\n",
        "#                 label_field,\n",
        "#                 split\n",
        "#             )\n",
        "#     else:\n",
        "#         if split is None:\n",
        "#             split_view = samples\n",
        "#             split = \"train\"\n",
        "#         else:\n",
        "#             split_view = samples.match_tags(split)\n",
        "\n",
        "#         split_view.export(\n",
        "#             export_dir=export_dir,\n",
        "#             dataset_type=fo.types.YOLOv5Dataset,\n",
        "#             label_field=label_field,\n",
        "#             classes=classes,\n",
        "#             split=split\n",
        "#         )"
      ]
    },
    {
      "cell_type": "code",
      "execution_count": 29,
      "metadata": {
        "colab": {
          "base_uri": "https://localhost:8080/"
        },
        "id": "71aOBWBZgjod",
        "outputId": "5ae7eb7f-0500-45f0-9ffe-5814bcaaeba8"
      },
      "outputs": [
        {
          "name": "stdout",
          "output_type": "stream",
          "text": [
            "  40% |███████------------| 10/25 [238.6ms elapsed, 357.9ms remaining, 41.9 samples/s] "
          ]
        },
        {
          "name": "stdout",
          "output_type": "stream",
          "text": [
            " 100% |███████████████████| 25/25 [551.1ms elapsed, 0s remaining, 45.4 samples/s]      \n"
          ]
        }
      ],
      "source": [
        "# OpenImg_dir = \"openImg\"\n",
        "# export_yolo_data(dataset, OpenImg_dir, OpenImg_classes_train)"
      ]
    },
    {
      "cell_type": "code",
      "execution_count": 30,
      "metadata": {
        "id": "EvQOHPmuupDr"
      },
      "outputs": [],
      "source": [
        "# def export_yolo_data(\n",
        "#     samples,\n",
        "#     export_dir,\n",
        "#     classes,\n",
        "#     label_field = \"detections\",\n",
        "#     split = None\n",
        "#     ):\n",
        "\n",
        "#     if type(split) == list:\n",
        "#         splits = split\n",
        "#         for split in splits:\n",
        "#             export_yolo_data(\n",
        "#                 samples,\n",
        "#                 export_dir,\n",
        "#                 classes,\n",
        "#                 label_field,\n",
        "#                 split\n",
        "#             )\n",
        "#     else:\n",
        "#         if split is None:\n",
        "#             split_view = samples\n",
        "#             split = \"val\"\n",
        "#         else:\n",
        "#             split_view = samples.match_tags(split)\n",
        "\n",
        "#         split_view.export(\n",
        "#             export_dir=export_dir,\n",
        "#             dataset_type=fo.types.YOLOv5Dataset,\n",
        "#             label_field=label_field,\n",
        "#             classes=classes,\n",
        "#             split=split\n",
        "#         )"
      ]
    },
    {
      "cell_type": "code",
      "execution_count": 31,
      "metadata": {
        "colab": {
          "base_uri": "https://localhost:8080/"
        },
        "id": "DxaXxxKmupGF",
        "outputId": "3a0acada-2d7c-4947-9f7a-7a9c6d9456fb"
      },
      "outputs": [
        {
          "name": "stdout",
          "output_type": "stream",
          "text": [
            "Directory 'openImg' already exists; export will be merged with existing files\n",
            " 100% |███████████████████| 25/25 [604.9ms elapsed, 0s remaining, 41.3 samples/s]      \n"
          ]
        }
      ],
      "source": [
        "# OpenImg_dir = \"openImg\"\n",
        "# export_yolo_data(dataset_val, OpenImg_dir, OpenImg_classes_val)"
      ]
    },
    {
      "cell_type": "code",
      "execution_count": 32,
      "metadata": {},
      "outputs": [],
      "source": [
        "# def export_yolo_data(\n",
        "#     samples,\n",
        "#     export_dir,\n",
        "#     classes,\n",
        "#     label_field = \"detections\",\n",
        "#     split = None\n",
        "#     ):\n",
        "\n",
        "#     if type(split) == list:\n",
        "#         splits = split\n",
        "#         for split in splits:\n",
        "#             export_yolo_data(\n",
        "#                 samples,\n",
        "#                 export_dir,\n",
        "#                 classes,\n",
        "#                 label_field,\n",
        "#                 split\n",
        "#             )\n",
        "#     else:\n",
        "#         if split is None:\n",
        "#             split_view = samples\n",
        "#             split = \"test\"\n",
        "#         else:\n",
        "#             split_view = samples.match_tags(split)\n",
        "\n",
        "#         split_view.export(\n",
        "#             export_dir=export_dir,\n",
        "#             dataset_type=fo.types.YOLOv5Dataset,\n",
        "#             label_field=label_field,\n",
        "#             classes=classes,\n",
        "#             split=split\n",
        "#         )"
      ]
    },
    {
      "cell_type": "code",
      "execution_count": 33,
      "metadata": {},
      "outputs": [
        {
          "name": "stdout",
          "output_type": "stream",
          "text": [
            "Directory 'openImg' already exists; export will be merged with existing files\n",
            " 100% |███████████████████| 25/25 [887.4ms elapsed, 0s remaining, 28.2 samples/s]      \n"
          ]
        }
      ],
      "source": [
        "# OpenImg_dir = \"openImg\"\n",
        "# export_yolo_data(dataset_test, OpenImg_dir, OpenImg_classes_test)"
      ]
    },
    {
      "cell_type": "code",
      "execution_count": 34,
      "metadata": {
        "colab": {
          "base_uri": "https://localhost:8080/"
        },
        "id": "vdmll5IdvXsf",
        "outputId": "1b9c67bc-eab6-4bc9-b8d1-df7dbbb914ab"
      },
      "outputs": [
        {
          "name": "stdout",
          "output_type": "stream",
          "text": [
            "Requirement already satisfied: PyYAML in /system/conda/miniconda3/envs/cloudspace/lib/python3.10/site-packages (6.0.1)\n"
          ]
        }
      ],
      "source": [
        "!pip install PyYAML\n",
        "import yaml\n"
      ]
    },
    {
      "cell_type": "code",
      "execution_count": 35,
      "metadata": {},
      "outputs": [
        {
          "data": {
            "text/plain": [
              "'/teamspace/studios/this_studio/OpenImgFolder'"
            ]
          },
          "execution_count": 35,
          "metadata": {},
          "output_type": "execute_result"
        }
      ],
      "source": [
        "pwd"
      ]
    },
    {
      "cell_type": "code",
      "execution_count": 38,
      "metadata": {
        "colab": {
          "base_uri": "https://localhost:8080/"
        },
        "id": "Fj_mkvgGvX5I",
        "outputId": "e97c3389-9a67-45e9-e9c8-6d3cb8f9d513"
      },
      "outputs": [
        {
          "name": "stdout",
          "output_type": "stream",
          "text": [
            "openImg  runs  yolov8n.pt  yolov8s.pt\n"
          ]
        }
      ],
      "source": [
        "!ls"
      ]
    },
    {
      "cell_type": "code",
      "execution_count": 6,
      "metadata": {
        "colab": {
          "base_uri": "https://localhost:8080/"
        },
        "id": "_PnuWTP0gjrE",
        "outputId": "3e835bd7-dff0-42af-cf89-2d51c82b2750"
      },
      "outputs": [
        {
          "name": "stdout",
          "output_type": "stream",
          "text": [
            "Ultralytics YOLOv8.1.29 🚀 Python-3.10.10 torch-2.2.1+cu121 CUDA:0 (Tesla T4, 15102MiB)\n",
            "\u001b[34m\u001b[1mengine/trainer: \u001b[0mtask=detect, mode=train, model=yolov8s.pt, data=/teamspace/studios/this_studio/OpenImgFolder/data/data.yaml, epochs=100, time=None, patience=100, batch=16, imgsz=600, save=True, save_period=-1, cache=False, device=None, workers=8, project=None, name=train2, exist_ok=False, pretrained=True, optimizer=auto, verbose=True, seed=0, deterministic=True, single_cls=False, rect=False, cos_lr=False, close_mosaic=10, resume=False, amp=True, fraction=1.0, profile=False, freeze=None, multi_scale=False, overlap_mask=True, mask_ratio=4, dropout=0.0, val=True, split=val, save_json=False, save_hybrid=False, conf=None, iou=0.7, max_det=300, half=False, dnn=False, plots=True, source=None, vid_stride=1, stream_buffer=False, visualize=False, augment=False, agnostic_nms=False, classes=None, retina_masks=False, embed=None, show=False, save_frames=False, save_txt=False, save_conf=False, save_crop=False, show_labels=True, show_conf=True, show_boxes=True, line_width=None, format=torchscript, keras=False, optimize=False, int8=False, dynamic=False, simplify=False, opset=None, workspace=4, nms=False, lr0=0.01, lrf=0.01, momentum=0.937, weight_decay=0.0005, warmup_epochs=3.0, warmup_momentum=0.8, warmup_bias_lr=0.1, box=7.5, cls=0.5, dfl=1.5, pose=12.0, kobj=1.0, label_smoothing=0.0, nbs=64, hsv_h=0.015, hsv_s=0.7, hsv_v=0.4, degrees=0.0, translate=0.1, scale=0.5, shear=0.0, perspective=0.0, flipud=0.0, fliplr=0.5, mosaic=1.0, mixup=0.0, copy_paste=0.0, auto_augment=randaugment, erasing=0.4, crop_fraction=1.0, cfg=None, tracker=botsort.yaml, save_dir=runs/detect/train2\n"
          ]
        },
        {
          "name": "stdout",
          "output_type": "stream",
          "text": [
            "Downloading https://ultralytics.com/assets/Arial.ttf to '/teamspace/studios/this_studio/.config/Ultralytics/Arial.ttf'...\n"
          ]
        },
        {
          "name": "stderr",
          "output_type": "stream",
          "text": [
            "100%|██████████| 755k/755k [00:00<00:00, 144MB/s]\n"
          ]
        },
        {
          "name": "stdout",
          "output_type": "stream",
          "text": [
            "Overriding model.yaml nc=80 with nc=5\n",
            "\n",
            "                   from  n    params  module                                       arguments                     \n",
            "  0                  -1  1       928  ultralytics.nn.modules.conv.Conv             [3, 32, 3, 2]                 \n",
            "  1                  -1  1     18560  ultralytics.nn.modules.conv.Conv             [32, 64, 3, 2]                \n",
            "  2                  -1  1     29056  ultralytics.nn.modules.block.C2f             [64, 64, 1, True]             \n",
            "  3                  -1  1     73984  ultralytics.nn.modules.conv.Conv             [64, 128, 3, 2]               \n",
            "  4                  -1  2    197632  ultralytics.nn.modules.block.C2f             [128, 128, 2, True]           \n",
            "  5                  -1  1    295424  ultralytics.nn.modules.conv.Conv             [128, 256, 3, 2]              \n",
            "  6                  -1  2    788480  ultralytics.nn.modules.block.C2f             [256, 256, 2, True]           \n",
            "  7                  -1  1   1180672  ultralytics.nn.modules.conv.Conv             [256, 512, 3, 2]              \n",
            "  8                  -1  1   1838080  ultralytics.nn.modules.block.C2f             [512, 512, 1, True]           \n",
            "  9                  -1  1    656896  ultralytics.nn.modules.block.SPPF            [512, 512, 5]                 \n",
            " 10                  -1  1         0  torch.nn.modules.upsampling.Upsample         [None, 2, 'nearest']          \n",
            " 11             [-1, 6]  1         0  ultralytics.nn.modules.conv.Concat           [1]                           \n",
            " 12                  -1  1    591360  ultralytics.nn.modules.block.C2f             [768, 256, 1]                 \n",
            " 13                  -1  1         0  torch.nn.modules.upsampling.Upsample         [None, 2, 'nearest']          \n",
            " 14             [-1, 4]  1         0  ultralytics.nn.modules.conv.Concat           [1]                           \n",
            " 15                  -1  1    148224  ultralytics.nn.modules.block.C2f             [384, 128, 1]                 \n",
            " 16                  -1  1    147712  ultralytics.nn.modules.conv.Conv             [128, 128, 3, 2]              \n",
            " 17            [-1, 12]  1         0  ultralytics.nn.modules.conv.Concat           [1]                           \n",
            " 18                  -1  1    493056  ultralytics.nn.modules.block.C2f             [384, 256, 1]                 \n",
            " 19                  -1  1    590336  ultralytics.nn.modules.conv.Conv             [256, 256, 3, 2]              \n",
            " 20             [-1, 9]  1         0  ultralytics.nn.modules.conv.Concat           [1]                           \n",
            " 21                  -1  1   1969152  ultralytics.nn.modules.block.C2f             [768, 512, 1]                 \n",
            " 22        [15, 18, 21]  1   2117983  ultralytics.nn.modules.head.Detect           [5, [128, 256, 512]]          \n",
            "Model summary: 225 layers, 11137535 parameters, 11137519 gradients, 28.7 GFLOPs\n",
            "\n",
            "Transferred 349/355 items from pretrained weights\n",
            "\u001b[34m\u001b[1mTensorBoard: \u001b[0mStart with 'tensorboard --logdir runs/detect/train2', view at http://localhost:6006/\n",
            "Freezing layer 'model.22.dfl.conv.weight'\n",
            "\u001b[34m\u001b[1mAMP: \u001b[0mrunning Automatic Mixed Precision (AMP) checks with YOLOv8n...\n",
            "\u001b[34m\u001b[1mAMP: \u001b[0mchecks passed ✅\n",
            "WARNING ⚠️ imgsz=[600] must be multiple of max stride 32, updating to [608]\n"
          ]
        },
        {
          "name": "stderr",
          "output_type": "stream",
          "text": [
            "\u001b[34m\u001b[1mtrain: \u001b[0mScanning /teamspace/studios/this_studio/OpenImgFolder/data/train/labels... 120 images, 0 backgrounds, 0 corrupt: 100%|██████████| 120/120 [00:00<00:00, 1359.70it/s]"
          ]
        },
        {
          "name": "stdout",
          "output_type": "stream",
          "text": [
            "\u001b[34m\u001b[1mtrain: \u001b[0mNew cache created: /teamspace/studios/this_studio/OpenImgFolder/data/train/labels.cache\n"
          ]
        },
        {
          "name": "stderr",
          "output_type": "stream",
          "text": [
            "\n",
            "\u001b[34m\u001b[1mval: \u001b[0mScanning /teamspace/studios/this_studio/OpenImgFolder/data/valid/labels... 31 images, 0 backgrounds, 0 corrupt: 100%|██████████| 31/31 [00:00<00:00, 1665.51it/s]"
          ]
        },
        {
          "name": "stdout",
          "output_type": "stream",
          "text": [
            "\u001b[34m\u001b[1mval: \u001b[0mNew cache created: /teamspace/studios/this_studio/OpenImgFolder/data/valid/labels.cache\n"
          ]
        },
        {
          "name": "stderr",
          "output_type": "stream",
          "text": [
            "\n"
          ]
        },
        {
          "name": "stdout",
          "output_type": "stream",
          "text": [
            "Plotting labels to runs/detect/train2/labels.jpg... \n",
            "\u001b[34m\u001b[1moptimizer:\u001b[0m 'optimizer=auto' found, ignoring 'lr0=0.01' and 'momentum=0.937' and determining best 'optimizer', 'lr0' and 'momentum' automatically... \n",
            "\u001b[34m\u001b[1moptimizer:\u001b[0m AdamW(lr=0.001111, momentum=0.9) with parameter groups 57 weight(decay=0.0), 64 weight(decay=0.0005), 63 bias(decay=0.0)\n",
            "\u001b[34m\u001b[1mTensorBoard: \u001b[0mmodel graph visualization added ✅\n",
            "Image sizes 608 train, 608 val\n",
            "Using 8 dataloader workers\n",
            "Logging results to \u001b[1mruns/detect/train2\u001b[0m\n",
            "Starting training for 100 epochs...\n",
            "\n",
            "      Epoch    GPU_mem   box_loss   cls_loss   dfl_loss  Instances       Size\n"
          ]
        },
        {
          "name": "stderr",
          "output_type": "stream",
          "text": [
            "      1/100      3.74G      2.188      4.482      1.883         61        608: 100%|██████████| 8/8 [00:03<00:00,  2.19it/s]\n",
            "                 Class     Images  Instances      Box(P          R      mAP50  mAP50-95): 100%|██████████| 1/1 [00:00<00:00,  2.05it/s]"
          ]
        },
        {
          "name": "stdout",
          "output_type": "stream",
          "text": [
            "                   all         31        101     0.0462      0.177     0.0379     0.0169\n"
          ]
        },
        {
          "name": "stderr",
          "output_type": "stream",
          "text": [
            "\n"
          ]
        },
        {
          "name": "stdout",
          "output_type": "stream",
          "text": [
            "\n",
            "      Epoch    GPU_mem   box_loss   cls_loss   dfl_loss  Instances       Size\n"
          ]
        },
        {
          "name": "stderr",
          "output_type": "stream",
          "text": [
            "      2/100      3.81G      1.882      2.709      1.651         53        608: 100%|██████████| 8/8 [00:01<00:00,  4.50it/s]\n",
            "                 Class     Images  Instances      Box(P          R      mAP50  mAP50-95): 100%|██████████| 1/1 [00:00<00:00,  2.95it/s]"
          ]
        },
        {
          "name": "stdout",
          "output_type": "stream",
          "text": [
            "                   all         31        101      0.512       0.48      0.542      0.275\n"
          ]
        },
        {
          "name": "stderr",
          "output_type": "stream",
          "text": [
            "\n"
          ]
        },
        {
          "name": "stdout",
          "output_type": "stream",
          "text": [
            "\n",
            "      Epoch    GPU_mem   box_loss   cls_loss   dfl_loss  Instances       Size\n"
          ]
        },
        {
          "name": "stderr",
          "output_type": "stream",
          "text": [
            "      3/100      3.82G      1.683      2.065      1.492         59        608: 100%|██████████| 8/8 [00:01<00:00,  4.76it/s]\n",
            "                 Class     Images  Instances      Box(P          R      mAP50  mAP50-95): 100%|██████████| 1/1 [00:00<00:00,  3.58it/s]"
          ]
        },
        {
          "name": "stdout",
          "output_type": "stream",
          "text": [
            "                   all         31        101      0.512      0.627      0.627       0.34\n"
          ]
        },
        {
          "name": "stderr",
          "output_type": "stream",
          "text": [
            "\n"
          ]
        },
        {
          "name": "stdout",
          "output_type": "stream",
          "text": [
            "\n",
            "      Epoch    GPU_mem   box_loss   cls_loss   dfl_loss  Instances       Size\n"
          ]
        },
        {
          "name": "stderr",
          "output_type": "stream",
          "text": [
            "      4/100      3.83G      1.573       1.63      1.427         84        608: 100%|██████████| 8/8 [00:01<00:00,  4.80it/s]\n",
            "                 Class     Images  Instances      Box(P          R      mAP50  mAP50-95): 100%|██████████| 1/1 [00:00<00:00,  3.59it/s]"
          ]
        },
        {
          "name": "stdout",
          "output_type": "stream",
          "text": [
            "                   all         31        101      0.647      0.593      0.675      0.386\n"
          ]
        },
        {
          "name": "stderr",
          "output_type": "stream",
          "text": [
            "\n"
          ]
        },
        {
          "name": "stdout",
          "output_type": "stream",
          "text": [
            "\n",
            "      Epoch    GPU_mem   box_loss   cls_loss   dfl_loss  Instances       Size\n"
          ]
        },
        {
          "name": "stderr",
          "output_type": "stream",
          "text": [
            "      5/100      3.83G      1.546       1.44      1.376        102        608: 100%|██████████| 8/8 [00:01<00:00,  4.76it/s]\n",
            "                 Class     Images  Instances      Box(P          R      mAP50  mAP50-95): 100%|██████████| 1/1 [00:00<00:00,  4.03it/s]"
          ]
        },
        {
          "name": "stdout",
          "output_type": "stream",
          "text": [
            "                   all         31        101      0.727      0.533      0.622      0.302\n"
          ]
        },
        {
          "name": "stderr",
          "output_type": "stream",
          "text": [
            "\n"
          ]
        },
        {
          "name": "stdout",
          "output_type": "stream",
          "text": [
            "\n",
            "      Epoch    GPU_mem   box_loss   cls_loss   dfl_loss  Instances       Size\n"
          ]
        },
        {
          "name": "stderr",
          "output_type": "stream",
          "text": [
            "      6/100      3.84G      1.541       1.42      1.355         85        608: 100%|██████████| 8/8 [00:01<00:00,  4.76it/s]\n",
            "                 Class     Images  Instances      Box(P          R      mAP50  mAP50-95): 100%|██████████| 1/1 [00:00<00:00,  4.12it/s]"
          ]
        },
        {
          "name": "stdout",
          "output_type": "stream",
          "text": [
            "                   all         31        101      0.511      0.443      0.446      0.241\n"
          ]
        },
        {
          "name": "stderr",
          "output_type": "stream",
          "text": [
            "\n"
          ]
        },
        {
          "name": "stdout",
          "output_type": "stream",
          "text": [
            "\n",
            "      Epoch    GPU_mem   box_loss   cls_loss   dfl_loss  Instances       Size\n"
          ]
        },
        {
          "name": "stderr",
          "output_type": "stream",
          "text": [
            "      7/100      3.85G      1.578      1.403      1.398         93        608: 100%|██████████| 8/8 [00:01<00:00,  4.84it/s]\n",
            "                 Class     Images  Instances      Box(P          R      mAP50  mAP50-95): 100%|██████████| 1/1 [00:00<00:00,  3.83it/s]"
          ]
        },
        {
          "name": "stdout",
          "output_type": "stream",
          "text": [
            "                   all         31        101      0.461      0.579      0.519      0.289\n"
          ]
        },
        {
          "name": "stderr",
          "output_type": "stream",
          "text": [
            "\n"
          ]
        },
        {
          "name": "stdout",
          "output_type": "stream",
          "text": [
            "\n",
            "      Epoch    GPU_mem   box_loss   cls_loss   dfl_loss  Instances       Size\n"
          ]
        },
        {
          "name": "stderr",
          "output_type": "stream",
          "text": [
            "      8/100      3.89G      1.509      1.271      1.366        109        608: 100%|██████████| 8/8 [00:01<00:00,  4.83it/s]\n",
            "                 Class     Images  Instances      Box(P          R      mAP50  mAP50-95): 100%|██████████| 1/1 [00:00<00:00,  4.09it/s]"
          ]
        },
        {
          "name": "stdout",
          "output_type": "stream",
          "text": [
            "                   all         31        101      0.439      0.587      0.585       0.34\n"
          ]
        },
        {
          "name": "stderr",
          "output_type": "stream",
          "text": [
            "\n"
          ]
        },
        {
          "name": "stdout",
          "output_type": "stream",
          "text": [
            "\n",
            "      Epoch    GPU_mem   box_loss   cls_loss   dfl_loss  Instances       Size\n"
          ]
        },
        {
          "name": "stderr",
          "output_type": "stream",
          "text": [
            "      9/100       3.9G      1.455      1.135      1.303         70        608: 100%|██████████| 8/8 [00:01<00:00,  4.82it/s]\n",
            "                 Class     Images  Instances      Box(P          R      mAP50  mAP50-95): 100%|██████████| 1/1 [00:00<00:00,  4.01it/s]"
          ]
        },
        {
          "name": "stdout",
          "output_type": "stream",
          "text": [
            "                   all         31        101      0.622      0.609      0.573      0.321\n"
          ]
        },
        {
          "name": "stderr",
          "output_type": "stream",
          "text": [
            "\n"
          ]
        },
        {
          "name": "stdout",
          "output_type": "stream",
          "text": [
            "\n",
            "      Epoch    GPU_mem   box_loss   cls_loss   dfl_loss  Instances       Size\n"
          ]
        },
        {
          "name": "stderr",
          "output_type": "stream",
          "text": [
            "     10/100      3.83G      1.491      1.141      1.373         64        608: 100%|██████████| 8/8 [00:01<00:00,  4.88it/s]\n",
            "                 Class     Images  Instances      Box(P          R      mAP50  mAP50-95): 100%|██████████| 1/1 [00:00<00:00,  4.08it/s]"
          ]
        },
        {
          "name": "stdout",
          "output_type": "stream",
          "text": [
            "                   all         31        101      0.581      0.644      0.543      0.305\n"
          ]
        },
        {
          "name": "stderr",
          "output_type": "stream",
          "text": [
            "\n"
          ]
        },
        {
          "name": "stdout",
          "output_type": "stream",
          "text": [
            "\n",
            "      Epoch    GPU_mem   box_loss   cls_loss   dfl_loss  Instances       Size\n"
          ]
        },
        {
          "name": "stderr",
          "output_type": "stream",
          "text": [
            "     11/100      3.82G      1.449      1.082      1.279         92        608: 100%|██████████| 8/8 [00:01<00:00,  4.84it/s]\n",
            "                 Class     Images  Instances      Box(P          R      mAP50  mAP50-95): 100%|██████████| 1/1 [00:00<00:00,  4.08it/s]"
          ]
        },
        {
          "name": "stdout",
          "output_type": "stream",
          "text": [
            "                   all         31        101      0.587      0.572      0.614      0.309\n"
          ]
        },
        {
          "name": "stderr",
          "output_type": "stream",
          "text": [
            "\n"
          ]
        },
        {
          "name": "stdout",
          "output_type": "stream",
          "text": [
            "\n",
            "      Epoch    GPU_mem   box_loss   cls_loss   dfl_loss  Instances       Size\n"
          ]
        },
        {
          "name": "stderr",
          "output_type": "stream",
          "text": [
            "     12/100      3.87G      1.503      1.076      1.345        109        608: 100%|██████████| 8/8 [00:01<00:00,  4.79it/s]\n",
            "                 Class     Images  Instances      Box(P          R      mAP50  mAP50-95): 100%|██████████| 1/1 [00:00<00:00,  4.12it/s]"
          ]
        },
        {
          "name": "stdout",
          "output_type": "stream",
          "text": [
            "                   all         31        101      0.546      0.567      0.537      0.299\n"
          ]
        },
        {
          "name": "stderr",
          "output_type": "stream",
          "text": [
            "\n"
          ]
        },
        {
          "name": "stdout",
          "output_type": "stream",
          "text": [
            "\n",
            "      Epoch    GPU_mem   box_loss   cls_loss   dfl_loss  Instances       Size\n"
          ]
        },
        {
          "name": "stderr",
          "output_type": "stream",
          "text": [
            "     13/100      3.88G      1.449       1.01      1.319        117        608: 100%|██████████| 8/8 [00:01<00:00,  4.88it/s]\n",
            "                 Class     Images  Instances      Box(P          R      mAP50  mAP50-95): 100%|██████████| 1/1 [00:00<00:00,  4.17it/s]"
          ]
        },
        {
          "name": "stdout",
          "output_type": "stream",
          "text": [
            "                   all         31        101      0.407      0.698      0.545      0.276\n"
          ]
        },
        {
          "name": "stderr",
          "output_type": "stream",
          "text": [
            "\n"
          ]
        },
        {
          "name": "stdout",
          "output_type": "stream",
          "text": [
            "\n",
            "      Epoch    GPU_mem   box_loss   cls_loss   dfl_loss  Instances       Size\n"
          ]
        },
        {
          "name": "stderr",
          "output_type": "stream",
          "text": [
            "     14/100      3.83G       1.39     0.9543      1.303         80        608: 100%|██████████| 8/8 [00:01<00:00,  4.85it/s]\n",
            "                 Class     Images  Instances      Box(P          R      mAP50  mAP50-95): 100%|██████████| 1/1 [00:00<00:00,  4.39it/s]"
          ]
        },
        {
          "name": "stdout",
          "output_type": "stream",
          "text": [
            "                   all         31        101      0.656      0.548      0.579       0.29\n"
          ]
        },
        {
          "name": "stderr",
          "output_type": "stream",
          "text": [
            "\n"
          ]
        },
        {
          "name": "stdout",
          "output_type": "stream",
          "text": [
            "\n",
            "      Epoch    GPU_mem   box_loss   cls_loss   dfl_loss  Instances       Size\n"
          ]
        },
        {
          "name": "stderr",
          "output_type": "stream",
          "text": [
            "     15/100      3.87G      1.376     0.9659      1.284         79        608: 100%|██████████| 8/8 [00:01<00:00,  4.87it/s]\n",
            "                 Class     Images  Instances      Box(P          R      mAP50  mAP50-95): 100%|██████████| 1/1 [00:00<00:00,  4.05it/s]"
          ]
        },
        {
          "name": "stdout",
          "output_type": "stream",
          "text": [
            "                   all         31        101      0.673      0.612      0.549      0.302\n"
          ]
        },
        {
          "name": "stderr",
          "output_type": "stream",
          "text": [
            "\n"
          ]
        },
        {
          "name": "stdout",
          "output_type": "stream",
          "text": [
            "\n",
            "      Epoch    GPU_mem   box_loss   cls_loss   dfl_loss  Instances       Size\n"
          ]
        },
        {
          "name": "stderr",
          "output_type": "stream",
          "text": [
            "     16/100      3.83G      1.366     0.9256      1.252         72        608: 100%|██████████| 8/8 [00:01<00:00,  4.90it/s]\n",
            "                 Class     Images  Instances      Box(P          R      mAP50  mAP50-95): 100%|██████████| 1/1 [00:00<00:00,  4.28it/s]"
          ]
        },
        {
          "name": "stdout",
          "output_type": "stream",
          "text": [
            "                   all         31        101      0.738       0.63      0.646      0.353\n"
          ]
        },
        {
          "name": "stderr",
          "output_type": "stream",
          "text": [
            "\n"
          ]
        },
        {
          "name": "stdout",
          "output_type": "stream",
          "text": [
            "\n",
            "      Epoch    GPU_mem   box_loss   cls_loss   dfl_loss  Instances       Size\n"
          ]
        },
        {
          "name": "stderr",
          "output_type": "stream",
          "text": [
            "     17/100      3.92G      1.322     0.8836      1.222         70        608: 100%|██████████| 8/8 [00:01<00:00,  4.89it/s]\n",
            "                 Class     Images  Instances      Box(P          R      mAP50  mAP50-95): 100%|██████████| 1/1 [00:00<00:00,  4.35it/s]"
          ]
        },
        {
          "name": "stdout",
          "output_type": "stream",
          "text": [
            "                   all         31        101      0.719      0.632      0.623      0.326\n"
          ]
        },
        {
          "name": "stderr",
          "output_type": "stream",
          "text": [
            "\n"
          ]
        },
        {
          "name": "stdout",
          "output_type": "stream",
          "text": [
            "\n",
            "      Epoch    GPU_mem   box_loss   cls_loss   dfl_loss  Instances       Size\n"
          ]
        },
        {
          "name": "stderr",
          "output_type": "stream",
          "text": [
            "     18/100      3.89G      1.397     0.9186      1.288        110        608: 100%|██████████| 8/8 [00:01<00:00,  4.88it/s]\n",
            "                 Class     Images  Instances      Box(P          R      mAP50  mAP50-95): 100%|██████████| 1/1 [00:00<00:00,  4.32it/s]"
          ]
        },
        {
          "name": "stdout",
          "output_type": "stream",
          "text": [
            "                   all         31        101      0.713      0.646      0.683      0.349\n"
          ]
        },
        {
          "name": "stderr",
          "output_type": "stream",
          "text": [
            "\n"
          ]
        },
        {
          "name": "stdout",
          "output_type": "stream",
          "text": [
            "\n",
            "      Epoch    GPU_mem   box_loss   cls_loss   dfl_loss  Instances       Size\n"
          ]
        },
        {
          "name": "stderr",
          "output_type": "stream",
          "text": [
            "     19/100      3.83G      1.383     0.8943      1.295         69        608: 100%|██████████| 8/8 [00:01<00:00,  4.81it/s]\n",
            "                 Class     Images  Instances      Box(P          R      mAP50  mAP50-95): 100%|██████████| 1/1 [00:00<00:00,  3.99it/s]"
          ]
        },
        {
          "name": "stdout",
          "output_type": "stream",
          "text": [
            "                   all         31        101      0.657      0.676      0.685      0.345\n"
          ]
        },
        {
          "name": "stderr",
          "output_type": "stream",
          "text": [
            "\n"
          ]
        },
        {
          "name": "stdout",
          "output_type": "stream",
          "text": [
            "\n",
            "      Epoch    GPU_mem   box_loss   cls_loss   dfl_loss  Instances       Size\n"
          ]
        },
        {
          "name": "stderr",
          "output_type": "stream",
          "text": [
            "     20/100      3.83G      1.325     0.8676      1.242         81        608: 100%|██████████| 8/8 [00:01<00:00,  4.85it/s]\n",
            "                 Class     Images  Instances      Box(P          R      mAP50  mAP50-95): 100%|██████████| 1/1 [00:00<00:00,  4.24it/s]"
          ]
        },
        {
          "name": "stdout",
          "output_type": "stream",
          "text": [
            "                   all         31        101      0.691      0.556      0.686      0.367\n"
          ]
        },
        {
          "name": "stderr",
          "output_type": "stream",
          "text": [
            "\n"
          ]
        },
        {
          "name": "stdout",
          "output_type": "stream",
          "text": [
            "\n",
            "      Epoch    GPU_mem   box_loss   cls_loss   dfl_loss  Instances       Size\n"
          ]
        },
        {
          "name": "stderr",
          "output_type": "stream",
          "text": [
            "     21/100      3.83G      1.328     0.8686      1.268         63        608: 100%|██████████| 8/8 [00:01<00:00,  4.92it/s]\n",
            "                 Class     Images  Instances      Box(P          R      mAP50  mAP50-95): 100%|██████████| 1/1 [00:00<00:00,  4.58it/s]"
          ]
        },
        {
          "name": "stdout",
          "output_type": "stream",
          "text": [
            "                   all         31        101      0.736      0.661      0.754      0.388\n"
          ]
        },
        {
          "name": "stderr",
          "output_type": "stream",
          "text": [
            "\n"
          ]
        },
        {
          "name": "stdout",
          "output_type": "stream",
          "text": [
            "\n",
            "      Epoch    GPU_mem   box_loss   cls_loss   dfl_loss  Instances       Size\n"
          ]
        },
        {
          "name": "stderr",
          "output_type": "stream",
          "text": [
            "     22/100      3.84G      1.257     0.7954      1.219         83        608: 100%|██████████| 8/8 [00:01<00:00,  4.90it/s]\n",
            "                 Class     Images  Instances      Box(P          R      mAP50  mAP50-95): 100%|██████████| 1/1 [00:00<00:00,  4.34it/s]"
          ]
        },
        {
          "name": "stdout",
          "output_type": "stream",
          "text": [
            "                   all         31        101      0.691      0.729      0.786      0.382\n"
          ]
        },
        {
          "name": "stderr",
          "output_type": "stream",
          "text": [
            "\n"
          ]
        },
        {
          "name": "stdout",
          "output_type": "stream",
          "text": [
            "\n",
            "      Epoch    GPU_mem   box_loss   cls_loss   dfl_loss  Instances       Size\n"
          ]
        },
        {
          "name": "stderr",
          "output_type": "stream",
          "text": [
            "     23/100      3.88G      1.278     0.8059      1.215         87        608: 100%|██████████| 8/8 [00:01<00:00,  4.88it/s]\n",
            "                 Class     Images  Instances      Box(P          R      mAP50  mAP50-95): 100%|██████████| 1/1 [00:00<00:00,  4.21it/s]"
          ]
        },
        {
          "name": "stdout",
          "output_type": "stream",
          "text": [
            "                   all         31        101      0.697      0.754      0.789      0.418\n"
          ]
        },
        {
          "name": "stderr",
          "output_type": "stream",
          "text": [
            "\n"
          ]
        },
        {
          "name": "stdout",
          "output_type": "stream",
          "text": [
            "\n",
            "      Epoch    GPU_mem   box_loss   cls_loss   dfl_loss  Instances       Size\n"
          ]
        },
        {
          "name": "stderr",
          "output_type": "stream",
          "text": [
            "     24/100      3.89G      1.228      0.772       1.17         64        608: 100%|██████████| 8/8 [00:01<00:00,  4.87it/s]\n",
            "                 Class     Images  Instances      Box(P          R      mAP50  mAP50-95): 100%|██████████| 1/1 [00:00<00:00,  4.41it/s]"
          ]
        },
        {
          "name": "stdout",
          "output_type": "stream",
          "text": [
            "                   all         31        101      0.757      0.724      0.786       0.42\n"
          ]
        },
        {
          "name": "stderr",
          "output_type": "stream",
          "text": [
            "\n"
          ]
        },
        {
          "name": "stdout",
          "output_type": "stream",
          "text": [
            "\n",
            "      Epoch    GPU_mem   box_loss   cls_loss   dfl_loss  Instances       Size\n"
          ]
        },
        {
          "name": "stderr",
          "output_type": "stream",
          "text": [
            "     25/100      3.83G      1.235       0.79      1.192         63        608: 100%|██████████| 8/8 [00:01<00:00,  4.89it/s]\n",
            "                 Class     Images  Instances      Box(P          R      mAP50  mAP50-95): 100%|██████████| 1/1 [00:00<00:00,  4.30it/s]"
          ]
        },
        {
          "name": "stdout",
          "output_type": "stream",
          "text": [
            "                   all         31        101      0.721       0.78      0.803      0.439\n"
          ]
        },
        {
          "name": "stderr",
          "output_type": "stream",
          "text": [
            "\n"
          ]
        },
        {
          "name": "stdout",
          "output_type": "stream",
          "text": [
            "\n",
            "      Epoch    GPU_mem   box_loss   cls_loss   dfl_loss  Instances       Size\n"
          ]
        },
        {
          "name": "stderr",
          "output_type": "stream",
          "text": [
            "     26/100      3.82G      1.196     0.7549      1.151        100        608: 100%|██████████| 8/8 [00:01<00:00,  4.88it/s]\n",
            "                 Class     Images  Instances      Box(P          R      mAP50  mAP50-95): 100%|██████████| 1/1 [00:00<00:00,  4.41it/s]"
          ]
        },
        {
          "name": "stdout",
          "output_type": "stream",
          "text": [
            "                   all         31        101      0.807      0.742      0.799      0.437\n"
          ]
        },
        {
          "name": "stderr",
          "output_type": "stream",
          "text": [
            "\n"
          ]
        },
        {
          "name": "stdout",
          "output_type": "stream",
          "text": [
            "\n",
            "      Epoch    GPU_mem   box_loss   cls_loss   dfl_loss  Instances       Size\n"
          ]
        },
        {
          "name": "stderr",
          "output_type": "stream",
          "text": [
            "     27/100      3.83G      1.211     0.7353      1.168         88        608: 100%|██████████| 8/8 [00:01<00:00,  4.86it/s]\n",
            "                 Class     Images  Instances      Box(P          R      mAP50  mAP50-95): 100%|██████████| 1/1 [00:00<00:00,  4.36it/s]"
          ]
        },
        {
          "name": "stdout",
          "output_type": "stream",
          "text": [
            "                   all         31        101      0.726      0.748      0.821      0.448\n"
          ]
        },
        {
          "name": "stderr",
          "output_type": "stream",
          "text": [
            "\n"
          ]
        },
        {
          "name": "stdout",
          "output_type": "stream",
          "text": [
            "\n",
            "      Epoch    GPU_mem   box_loss   cls_loss   dfl_loss  Instances       Size\n"
          ]
        },
        {
          "name": "stderr",
          "output_type": "stream",
          "text": [
            "     28/100      3.87G      1.206      0.715      1.187         83        608: 100%|██████████| 8/8 [00:01<00:00,  4.85it/s]\n",
            "                 Class     Images  Instances      Box(P          R      mAP50  mAP50-95): 100%|██████████| 1/1 [00:00<00:00,  4.36it/s]"
          ]
        },
        {
          "name": "stdout",
          "output_type": "stream",
          "text": [
            "                   all         31        101       0.82      0.688      0.789      0.429\n"
          ]
        },
        {
          "name": "stderr",
          "output_type": "stream",
          "text": [
            "\n"
          ]
        },
        {
          "name": "stdout",
          "output_type": "stream",
          "text": [
            "\n",
            "      Epoch    GPU_mem   box_loss   cls_loss   dfl_loss  Instances       Size\n"
          ]
        },
        {
          "name": "stderr",
          "output_type": "stream",
          "text": [
            "     29/100      3.83G      1.225     0.7498      1.177         50        608: 100%|██████████| 8/8 [00:01<00:00,  4.86it/s]\n",
            "                 Class     Images  Instances      Box(P          R      mAP50  mAP50-95): 100%|██████████| 1/1 [00:00<00:00,  4.23it/s]"
          ]
        },
        {
          "name": "stdout",
          "output_type": "stream",
          "text": [
            "                   all         31        101      0.696      0.753      0.764      0.429\n"
          ]
        },
        {
          "name": "stderr",
          "output_type": "stream",
          "text": [
            "\n"
          ]
        },
        {
          "name": "stdout",
          "output_type": "stream",
          "text": [
            "\n",
            "      Epoch    GPU_mem   box_loss   cls_loss   dfl_loss  Instances       Size\n"
          ]
        },
        {
          "name": "stderr",
          "output_type": "stream",
          "text": [
            "     30/100      3.88G      1.152     0.7143      1.131         60        608: 100%|██████████| 8/8 [00:01<00:00,  4.88it/s]\n",
            "                 Class     Images  Instances      Box(P          R      mAP50  mAP50-95): 100%|██████████| 1/1 [00:00<00:00,  4.23it/s]"
          ]
        },
        {
          "name": "stdout",
          "output_type": "stream",
          "text": [
            "                   all         31        101      0.854      0.727      0.787      0.417\n"
          ]
        },
        {
          "name": "stderr",
          "output_type": "stream",
          "text": [
            "\n"
          ]
        },
        {
          "name": "stdout",
          "output_type": "stream",
          "text": [
            "\n",
            "      Epoch    GPU_mem   box_loss   cls_loss   dfl_loss  Instances       Size\n"
          ]
        },
        {
          "name": "stderr",
          "output_type": "stream",
          "text": [
            "     31/100      3.82G      1.178     0.7197      1.163         60        608: 100%|██████████| 8/8 [00:01<00:00,  4.82it/s]\n",
            "                 Class     Images  Instances      Box(P          R      mAP50  mAP50-95): 100%|██████████| 1/1 [00:00<00:00,  4.24it/s]"
          ]
        },
        {
          "name": "stdout",
          "output_type": "stream",
          "text": [
            "                   all         31        101      0.853      0.712      0.785      0.429\n"
          ]
        },
        {
          "name": "stderr",
          "output_type": "stream",
          "text": [
            "\n"
          ]
        },
        {
          "name": "stdout",
          "output_type": "stream",
          "text": [
            "\n",
            "      Epoch    GPU_mem   box_loss   cls_loss   dfl_loss  Instances       Size\n"
          ]
        },
        {
          "name": "stderr",
          "output_type": "stream",
          "text": [
            "     32/100      3.88G      1.142     0.7077      1.129         48        608: 100%|██████████| 8/8 [00:01<00:00,  4.75it/s]\n",
            "                 Class     Images  Instances      Box(P          R      mAP50  mAP50-95): 100%|██████████| 1/1 [00:00<00:00,  4.06it/s]"
          ]
        },
        {
          "name": "stdout",
          "output_type": "stream",
          "text": [
            "                   all         31        101      0.799      0.745      0.795      0.452\n"
          ]
        },
        {
          "name": "stderr",
          "output_type": "stream",
          "text": [
            "\n"
          ]
        },
        {
          "name": "stdout",
          "output_type": "stream",
          "text": [
            "\n",
            "      Epoch    GPU_mem   box_loss   cls_loss   dfl_loss  Instances       Size\n"
          ]
        },
        {
          "name": "stderr",
          "output_type": "stream",
          "text": [
            "     33/100      3.82G      1.143     0.6826      1.124        123        608: 100%|██████████| 8/8 [00:01<00:00,  4.87it/s]\n",
            "                 Class     Images  Instances      Box(P          R      mAP50  mAP50-95): 100%|██████████| 1/1 [00:00<00:00,  4.12it/s]"
          ]
        },
        {
          "name": "stdout",
          "output_type": "stream",
          "text": [
            "                   all         31        101      0.874      0.657        0.8      0.441\n"
          ]
        },
        {
          "name": "stderr",
          "output_type": "stream",
          "text": [
            "\n"
          ]
        },
        {
          "name": "stdout",
          "output_type": "stream",
          "text": [
            "\n",
            "      Epoch    GPU_mem   box_loss   cls_loss   dfl_loss  Instances       Size\n"
          ]
        },
        {
          "name": "stderr",
          "output_type": "stream",
          "text": [
            "     34/100      3.86G      1.111     0.6527      1.111         61        608: 100%|██████████| 8/8 [00:01<00:00,  4.90it/s]\n",
            "                 Class     Images  Instances      Box(P          R      mAP50  mAP50-95): 100%|██████████| 1/1 [00:00<00:00,  4.14it/s]"
          ]
        },
        {
          "name": "stdout",
          "output_type": "stream",
          "text": [
            "                   all         31        101      0.818      0.735      0.792      0.456\n"
          ]
        },
        {
          "name": "stderr",
          "output_type": "stream",
          "text": [
            "\n"
          ]
        },
        {
          "name": "stdout",
          "output_type": "stream",
          "text": [
            "\n",
            "      Epoch    GPU_mem   box_loss   cls_loss   dfl_loss  Instances       Size\n"
          ]
        },
        {
          "name": "stderr",
          "output_type": "stream",
          "text": [
            "     35/100      3.83G      1.138     0.6811      1.169         69        608: 100%|██████████| 8/8 [00:01<00:00,  4.86it/s]\n",
            "                 Class     Images  Instances      Box(P          R      mAP50  mAP50-95): 100%|██████████| 1/1 [00:00<00:00,  4.27it/s]"
          ]
        },
        {
          "name": "stdout",
          "output_type": "stream",
          "text": [
            "                   all         31        101      0.845      0.709      0.786      0.445\n"
          ]
        },
        {
          "name": "stderr",
          "output_type": "stream",
          "text": [
            "\n"
          ]
        },
        {
          "name": "stdout",
          "output_type": "stream",
          "text": [
            "\n",
            "      Epoch    GPU_mem   box_loss   cls_loss   dfl_loss  Instances       Size\n"
          ]
        },
        {
          "name": "stderr",
          "output_type": "stream",
          "text": [
            "     36/100      3.83G      1.105     0.6563      1.125         69        608: 100%|██████████| 8/8 [00:01<00:00,  4.90it/s]\n",
            "                 Class     Images  Instances      Box(P          R      mAP50  mAP50-95): 100%|██████████| 1/1 [00:00<00:00,  4.25it/s]"
          ]
        },
        {
          "name": "stdout",
          "output_type": "stream",
          "text": [
            "                   all         31        101      0.771      0.762      0.806      0.466\n"
          ]
        },
        {
          "name": "stderr",
          "output_type": "stream",
          "text": [
            "\n"
          ]
        },
        {
          "name": "stdout",
          "output_type": "stream",
          "text": [
            "\n",
            "      Epoch    GPU_mem   box_loss   cls_loss   dfl_loss  Instances       Size\n"
          ]
        },
        {
          "name": "stderr",
          "output_type": "stream",
          "text": [
            "     37/100      3.83G      1.102     0.6482      1.128         58        608: 100%|██████████| 8/8 [00:01<00:00,  4.86it/s]\n",
            "                 Class     Images  Instances      Box(P          R      mAP50  mAP50-95): 100%|██████████| 1/1 [00:00<00:00,  4.44it/s]"
          ]
        },
        {
          "name": "stdout",
          "output_type": "stream",
          "text": [
            "                   all         31        101      0.906      0.714       0.82      0.478\n"
          ]
        },
        {
          "name": "stderr",
          "output_type": "stream",
          "text": [
            "\n"
          ]
        },
        {
          "name": "stdout",
          "output_type": "stream",
          "text": [
            "\n",
            "      Epoch    GPU_mem   box_loss   cls_loss   dfl_loss  Instances       Size\n"
          ]
        },
        {
          "name": "stderr",
          "output_type": "stream",
          "text": [
            "     38/100      3.82G      1.112      0.645      1.121        101        608: 100%|██████████| 8/8 [00:01<00:00,  4.87it/s]\n",
            "                 Class     Images  Instances      Box(P          R      mAP50  mAP50-95): 100%|██████████| 1/1 [00:00<00:00,  4.39it/s]"
          ]
        },
        {
          "name": "stdout",
          "output_type": "stream",
          "text": [
            "                   all         31        101      0.868      0.745      0.835      0.471\n"
          ]
        },
        {
          "name": "stderr",
          "output_type": "stream",
          "text": [
            "\n"
          ]
        },
        {
          "name": "stdout",
          "output_type": "stream",
          "text": [
            "\n",
            "      Epoch    GPU_mem   box_loss   cls_loss   dfl_loss  Instances       Size\n"
          ]
        },
        {
          "name": "stderr",
          "output_type": "stream",
          "text": [
            "     39/100      3.82G       1.11     0.6599      1.125         84        608: 100%|██████████| 8/8 [00:01<00:00,  4.87it/s]\n",
            "                 Class     Images  Instances      Box(P          R      mAP50  mAP50-95): 100%|██████████| 1/1 [00:00<00:00,  4.33it/s]"
          ]
        },
        {
          "name": "stdout",
          "output_type": "stream",
          "text": [
            "                   all         31        101      0.903      0.749      0.846      0.467\n"
          ]
        },
        {
          "name": "stderr",
          "output_type": "stream",
          "text": [
            "\n"
          ]
        },
        {
          "name": "stdout",
          "output_type": "stream",
          "text": [
            "\n",
            "      Epoch    GPU_mem   box_loss   cls_loss   dfl_loss  Instances       Size\n"
          ]
        },
        {
          "name": "stderr",
          "output_type": "stream",
          "text": [
            "     40/100      3.87G       1.09     0.6514      1.112         52        608: 100%|██████████| 8/8 [00:01<00:00,  4.84it/s]\n",
            "                 Class     Images  Instances      Box(P          R      mAP50  mAP50-95): 100%|██████████| 1/1 [00:00<00:00,  4.35it/s]"
          ]
        },
        {
          "name": "stdout",
          "output_type": "stream",
          "text": [
            "                   all         31        101      0.811       0.75      0.831      0.461\n"
          ]
        },
        {
          "name": "stderr",
          "output_type": "stream",
          "text": [
            "\n"
          ]
        },
        {
          "name": "stdout",
          "output_type": "stream",
          "text": [
            "\n",
            "      Epoch    GPU_mem   box_loss   cls_loss   dfl_loss  Instances       Size\n"
          ]
        },
        {
          "name": "stderr",
          "output_type": "stream",
          "text": [
            "     41/100      3.88G      1.083     0.6238        1.1        106        608: 100%|██████████| 8/8 [00:01<00:00,  4.89it/s]\n",
            "                 Class     Images  Instances      Box(P          R      mAP50  mAP50-95): 100%|██████████| 1/1 [00:00<00:00,  4.34it/s]"
          ]
        },
        {
          "name": "stdout",
          "output_type": "stream",
          "text": [
            "                   all         31        101      0.879      0.698      0.831      0.485\n"
          ]
        },
        {
          "name": "stderr",
          "output_type": "stream",
          "text": [
            "\n"
          ]
        },
        {
          "name": "stdout",
          "output_type": "stream",
          "text": [
            "\n",
            "      Epoch    GPU_mem   box_loss   cls_loss   dfl_loss  Instances       Size\n"
          ]
        },
        {
          "name": "stderr",
          "output_type": "stream",
          "text": [
            "     42/100      3.86G      1.062     0.6121      1.077         79        608: 100%|██████████| 8/8 [00:01<00:00,  4.86it/s]\n",
            "                 Class     Images  Instances      Box(P          R      mAP50  mAP50-95): 100%|██████████| 1/1 [00:00<00:00,  4.39it/s]"
          ]
        },
        {
          "name": "stdout",
          "output_type": "stream",
          "text": [
            "                   all         31        101      0.795      0.782      0.826       0.46\n"
          ]
        },
        {
          "name": "stderr",
          "output_type": "stream",
          "text": [
            "\n"
          ]
        },
        {
          "name": "stdout",
          "output_type": "stream",
          "text": [
            "\n",
            "      Epoch    GPU_mem   box_loss   cls_loss   dfl_loss  Instances       Size\n"
          ]
        },
        {
          "name": "stderr",
          "output_type": "stream",
          "text": [
            "     43/100      3.87G      1.065     0.5979      1.095         72        608: 100%|██████████| 8/8 [00:01<00:00,  4.87it/s]\n",
            "                 Class     Images  Instances      Box(P          R      mAP50  mAP50-95): 100%|██████████| 1/1 [00:00<00:00,  4.46it/s]"
          ]
        },
        {
          "name": "stdout",
          "output_type": "stream",
          "text": [
            "                   all         31        101      0.824      0.753      0.826      0.464\n"
          ]
        },
        {
          "name": "stderr",
          "output_type": "stream",
          "text": [
            "\n"
          ]
        },
        {
          "name": "stdout",
          "output_type": "stream",
          "text": [
            "\n",
            "      Epoch    GPU_mem   box_loss   cls_loss   dfl_loss  Instances       Size\n"
          ]
        },
        {
          "name": "stderr",
          "output_type": "stream",
          "text": [
            "     44/100      3.87G      1.048     0.6005      1.077        124        608: 100%|██████████| 8/8 [00:01<00:00,  4.64it/s]\n",
            "                 Class     Images  Instances      Box(P          R      mAP50  mAP50-95): 100%|██████████| 1/1 [00:00<00:00,  4.05it/s]"
          ]
        },
        {
          "name": "stdout",
          "output_type": "stream",
          "text": [
            "                   all         31        101      0.848      0.752      0.811      0.457\n"
          ]
        },
        {
          "name": "stderr",
          "output_type": "stream",
          "text": [
            "\n"
          ]
        },
        {
          "name": "stdout",
          "output_type": "stream",
          "text": [
            "\n",
            "      Epoch    GPU_mem   box_loss   cls_loss   dfl_loss  Instances       Size\n"
          ]
        },
        {
          "name": "stderr",
          "output_type": "stream",
          "text": [
            "     45/100      3.82G     0.9825     0.5732      1.067         89        608: 100%|██████████| 8/8 [00:01<00:00,  4.85it/s]\n",
            "                 Class     Images  Instances      Box(P          R      mAP50  mAP50-95): 100%|██████████| 1/1 [00:00<00:00,  4.25it/s]"
          ]
        },
        {
          "name": "stdout",
          "output_type": "stream",
          "text": [
            "                   all         31        101      0.863      0.803       0.84      0.468\n"
          ]
        },
        {
          "name": "stderr",
          "output_type": "stream",
          "text": [
            "\n"
          ]
        },
        {
          "name": "stdout",
          "output_type": "stream",
          "text": [
            "\n",
            "      Epoch    GPU_mem   box_loss   cls_loss   dfl_loss  Instances       Size\n"
          ]
        },
        {
          "name": "stderr",
          "output_type": "stream",
          "text": [
            "     46/100      3.86G      1.032     0.5856      1.064         82        608: 100%|██████████| 8/8 [00:01<00:00,  4.87it/s]\n",
            "                 Class     Images  Instances      Box(P          R      mAP50  mAP50-95): 100%|██████████| 1/1 [00:00<00:00,  4.45it/s]"
          ]
        },
        {
          "name": "stdout",
          "output_type": "stream",
          "text": [
            "                   all         31        101      0.865      0.767       0.83      0.477\n"
          ]
        },
        {
          "name": "stderr",
          "output_type": "stream",
          "text": [
            "\n"
          ]
        },
        {
          "name": "stdout",
          "output_type": "stream",
          "text": [
            "\n",
            "      Epoch    GPU_mem   box_loss   cls_loss   dfl_loss  Instances       Size\n"
          ]
        },
        {
          "name": "stderr",
          "output_type": "stream",
          "text": [
            "     47/100      3.84G      1.012     0.5777      1.046         96        608: 100%|██████████| 8/8 [00:01<00:00,  4.86it/s]\n",
            "                 Class     Images  Instances      Box(P          R      mAP50  mAP50-95): 100%|██████████| 1/1 [00:00<00:00,  4.35it/s]"
          ]
        },
        {
          "name": "stdout",
          "output_type": "stream",
          "text": [
            "                   all         31        101      0.846      0.771      0.819      0.486\n"
          ]
        },
        {
          "name": "stderr",
          "output_type": "stream",
          "text": [
            "\n"
          ]
        },
        {
          "name": "stdout",
          "output_type": "stream",
          "text": [
            "\n",
            "      Epoch    GPU_mem   box_loss   cls_loss   dfl_loss  Instances       Size\n"
          ]
        },
        {
          "name": "stderr",
          "output_type": "stream",
          "text": [
            "     48/100      3.84G     0.9811     0.5568       1.07         69        608: 100%|██████████| 8/8 [00:01<00:00,  4.88it/s]\n",
            "                 Class     Images  Instances      Box(P          R      mAP50  mAP50-95): 100%|██████████| 1/1 [00:00<00:00,  4.32it/s]"
          ]
        },
        {
          "name": "stdout",
          "output_type": "stream",
          "text": [
            "                   all         31        101      0.806      0.792      0.823      0.477\n"
          ]
        },
        {
          "name": "stderr",
          "output_type": "stream",
          "text": [
            "\n"
          ]
        },
        {
          "name": "stdout",
          "output_type": "stream",
          "text": [
            "\n",
            "      Epoch    GPU_mem   box_loss   cls_loss   dfl_loss  Instances       Size\n"
          ]
        },
        {
          "name": "stderr",
          "output_type": "stream",
          "text": [
            "     49/100      3.83G     0.9587      0.567      1.077         73        608: 100%|██████████| 8/8 [00:01<00:00,  4.89it/s]\n",
            "                 Class     Images  Instances      Box(P          R      mAP50  mAP50-95): 100%|██████████| 1/1 [00:00<00:00,  4.28it/s]"
          ]
        },
        {
          "name": "stdout",
          "output_type": "stream",
          "text": [
            "                   all         31        101      0.914      0.723      0.815      0.473\n"
          ]
        },
        {
          "name": "stderr",
          "output_type": "stream",
          "text": [
            "\n"
          ]
        },
        {
          "name": "stdout",
          "output_type": "stream",
          "text": [
            "\n",
            "      Epoch    GPU_mem   box_loss   cls_loss   dfl_loss  Instances       Size\n"
          ]
        },
        {
          "name": "stderr",
          "output_type": "stream",
          "text": [
            "     50/100      3.87G     0.9397     0.5396       1.03         84        608: 100%|██████████| 8/8 [00:01<00:00,  4.90it/s]\n",
            "                 Class     Images  Instances      Box(P          R      mAP50  mAP50-95): 100%|██████████| 1/1 [00:00<00:00,  4.13it/s]"
          ]
        },
        {
          "name": "stdout",
          "output_type": "stream",
          "text": [
            "                   all         31        101      0.951      0.722      0.807      0.456\n"
          ]
        },
        {
          "name": "stderr",
          "output_type": "stream",
          "text": [
            "\n"
          ]
        },
        {
          "name": "stdout",
          "output_type": "stream",
          "text": [
            "\n",
            "      Epoch    GPU_mem   box_loss   cls_loss   dfl_loss  Instances       Size\n"
          ]
        },
        {
          "name": "stderr",
          "output_type": "stream",
          "text": [
            "     51/100      3.82G     0.9671     0.5616      1.062         80        608: 100%|██████████| 8/8 [00:01<00:00,  4.88it/s]\n",
            "                 Class     Images  Instances      Box(P          R      mAP50  mAP50-95): 100%|██████████| 1/1 [00:00<00:00,  4.39it/s]"
          ]
        },
        {
          "name": "stdout",
          "output_type": "stream",
          "text": [
            "                   all         31        101      0.915      0.726      0.809      0.466\n"
          ]
        },
        {
          "name": "stderr",
          "output_type": "stream",
          "text": [
            "\n"
          ]
        },
        {
          "name": "stdout",
          "output_type": "stream",
          "text": [
            "\n",
            "      Epoch    GPU_mem   box_loss   cls_loss   dfl_loss  Instances       Size\n"
          ]
        },
        {
          "name": "stderr",
          "output_type": "stream",
          "text": [
            "     52/100      3.87G     0.9261     0.5671       1.03         54        608: 100%|██████████| 8/8 [00:01<00:00,  4.87it/s]\n",
            "                 Class     Images  Instances      Box(P          R      mAP50  mAP50-95): 100%|██████████| 1/1 [00:00<00:00,  4.30it/s]"
          ]
        },
        {
          "name": "stdout",
          "output_type": "stream",
          "text": [
            "                   all         31        101      0.862      0.752      0.822      0.472\n"
          ]
        },
        {
          "name": "stderr",
          "output_type": "stream",
          "text": [
            "\n"
          ]
        },
        {
          "name": "stdout",
          "output_type": "stream",
          "text": [
            "\n",
            "      Epoch    GPU_mem   box_loss   cls_loss   dfl_loss  Instances       Size\n"
          ]
        },
        {
          "name": "stderr",
          "output_type": "stream",
          "text": [
            "     53/100      3.83G     0.9037     0.5298      1.033         77        608: 100%|██████████| 8/8 [00:01<00:00,  4.89it/s]\n",
            "                 Class     Images  Instances      Box(P          R      mAP50  mAP50-95): 100%|██████████| 1/1 [00:00<00:00,  3.99it/s]"
          ]
        },
        {
          "name": "stdout",
          "output_type": "stream",
          "text": [
            "                   all         31        101      0.784      0.794      0.821      0.457\n"
          ]
        },
        {
          "name": "stderr",
          "output_type": "stream",
          "text": [
            "\n"
          ]
        },
        {
          "name": "stdout",
          "output_type": "stream",
          "text": [
            "\n",
            "      Epoch    GPU_mem   box_loss   cls_loss   dfl_loss  Instances       Size\n"
          ]
        },
        {
          "name": "stderr",
          "output_type": "stream",
          "text": [
            "     54/100      3.87G     0.9165     0.5389      1.038         67        608: 100%|██████████| 8/8 [00:01<00:00,  4.86it/s]\n",
            "                 Class     Images  Instances      Box(P          R      mAP50  mAP50-95): 100%|██████████| 1/1 [00:00<00:00,  4.12it/s]"
          ]
        },
        {
          "name": "stdout",
          "output_type": "stream",
          "text": [
            "                   all         31        101      0.817      0.757      0.812       0.46\n"
          ]
        },
        {
          "name": "stderr",
          "output_type": "stream",
          "text": [
            "\n"
          ]
        },
        {
          "name": "stdout",
          "output_type": "stream",
          "text": [
            "\n",
            "      Epoch    GPU_mem   box_loss   cls_loss   dfl_loss  Instances       Size\n"
          ]
        },
        {
          "name": "stderr",
          "output_type": "stream",
          "text": [
            "     55/100      3.83G     0.9169     0.5271      1.016         61        608: 100%|██████████| 8/8 [00:01<00:00,  4.86it/s]\n",
            "                 Class     Images  Instances      Box(P          R      mAP50  mAP50-95): 100%|██████████| 1/1 [00:00<00:00,  4.24it/s]"
          ]
        },
        {
          "name": "stdout",
          "output_type": "stream",
          "text": [
            "                   all         31        101      0.807      0.775      0.818      0.475\n"
          ]
        },
        {
          "name": "stderr",
          "output_type": "stream",
          "text": [
            "\n"
          ]
        },
        {
          "name": "stdout",
          "output_type": "stream",
          "text": [
            "\n",
            "      Epoch    GPU_mem   box_loss   cls_loss   dfl_loss  Instances       Size\n"
          ]
        },
        {
          "name": "stderr",
          "output_type": "stream",
          "text": [
            "     56/100      3.87G     0.8849     0.5202      1.018         55        608: 100%|██████████| 8/8 [00:01<00:00,  4.97it/s]\n",
            "                 Class     Images  Instances      Box(P          R      mAP50  mAP50-95): 100%|██████████| 1/1 [00:00<00:00,  4.63it/s]"
          ]
        },
        {
          "name": "stdout",
          "output_type": "stream",
          "text": [
            "                   all         31        101      0.787      0.782      0.829      0.476\n"
          ]
        },
        {
          "name": "stderr",
          "output_type": "stream",
          "text": [
            "\n"
          ]
        },
        {
          "name": "stdout",
          "output_type": "stream",
          "text": [
            "\n",
            "      Epoch    GPU_mem   box_loss   cls_loss   dfl_loss  Instances       Size\n"
          ]
        },
        {
          "name": "stderr",
          "output_type": "stream",
          "text": [
            "     57/100      3.88G     0.8755     0.5266       1.02         70        608: 100%|██████████| 8/8 [00:01<00:00,  4.88it/s]\n",
            "                 Class     Images  Instances      Box(P          R      mAP50  mAP50-95): 100%|██████████| 1/1 [00:00<00:00,  4.35it/s]"
          ]
        },
        {
          "name": "stdout",
          "output_type": "stream",
          "text": [
            "                   all         31        101      0.909      0.735      0.844      0.492\n"
          ]
        },
        {
          "name": "stderr",
          "output_type": "stream",
          "text": [
            "\n"
          ]
        },
        {
          "name": "stdout",
          "output_type": "stream",
          "text": [
            "\n",
            "      Epoch    GPU_mem   box_loss   cls_loss   dfl_loss  Instances       Size\n"
          ]
        },
        {
          "name": "stderr",
          "output_type": "stream",
          "text": [
            "     58/100      3.88G     0.8753     0.5154     0.9989         64        608: 100%|██████████| 8/8 [00:01<00:00,  4.83it/s]\n",
            "                 Class     Images  Instances      Box(P          R      mAP50  mAP50-95): 100%|██████████| 1/1 [00:00<00:00,  4.28it/s]"
          ]
        },
        {
          "name": "stdout",
          "output_type": "stream",
          "text": [
            "                   all         31        101      0.827      0.817      0.853      0.499\n"
          ]
        },
        {
          "name": "stderr",
          "output_type": "stream",
          "text": [
            "\n"
          ]
        },
        {
          "name": "stdout",
          "output_type": "stream",
          "text": [
            "\n",
            "      Epoch    GPU_mem   box_loss   cls_loss   dfl_loss  Instances       Size\n"
          ]
        },
        {
          "name": "stderr",
          "output_type": "stream",
          "text": [
            "     59/100      3.86G     0.8783     0.5248      1.005         86        608: 100%|██████████| 8/8 [00:01<00:00,  4.87it/s]\n",
            "                 Class     Images  Instances      Box(P          R      mAP50  mAP50-95): 100%|██████████| 1/1 [00:00<00:00,  4.17it/s]"
          ]
        },
        {
          "name": "stdout",
          "output_type": "stream",
          "text": [
            "                   all         31        101      0.897      0.798      0.846      0.498\n"
          ]
        },
        {
          "name": "stderr",
          "output_type": "stream",
          "text": [
            "\n"
          ]
        },
        {
          "name": "stdout",
          "output_type": "stream",
          "text": [
            "\n",
            "      Epoch    GPU_mem   box_loss   cls_loss   dfl_loss  Instances       Size\n"
          ]
        },
        {
          "name": "stderr",
          "output_type": "stream",
          "text": [
            "     60/100      3.85G     0.8828      0.502      1.031         47        608: 100%|██████████| 8/8 [00:01<00:00,  4.87it/s]\n",
            "                 Class     Images  Instances      Box(P          R      mAP50  mAP50-95): 100%|██████████| 1/1 [00:00<00:00,  4.31it/s]"
          ]
        },
        {
          "name": "stdout",
          "output_type": "stream",
          "text": [
            "                   all         31        101      0.893      0.795      0.847      0.492\n"
          ]
        },
        {
          "name": "stderr",
          "output_type": "stream",
          "text": [
            "\n"
          ]
        },
        {
          "name": "stdout",
          "output_type": "stream",
          "text": [
            "\n",
            "      Epoch    GPU_mem   box_loss   cls_loss   dfl_loss  Instances       Size\n"
          ]
        },
        {
          "name": "stderr",
          "output_type": "stream",
          "text": [
            "     61/100      3.84G      0.905     0.5088      1.015         69        608: 100%|██████████| 8/8 [00:01<00:00,  4.88it/s]\n",
            "                 Class     Images  Instances      Box(P          R      mAP50  mAP50-95): 100%|██████████| 1/1 [00:00<00:00,  4.24it/s]"
          ]
        },
        {
          "name": "stdout",
          "output_type": "stream",
          "text": [
            "                   all         31        101      0.895       0.79       0.85      0.493\n"
          ]
        },
        {
          "name": "stderr",
          "output_type": "stream",
          "text": [
            "\n"
          ]
        },
        {
          "name": "stdout",
          "output_type": "stream",
          "text": [
            "\n",
            "      Epoch    GPU_mem   box_loss   cls_loss   dfl_loss  Instances       Size\n"
          ]
        },
        {
          "name": "stderr",
          "output_type": "stream",
          "text": [
            "     62/100      3.82G     0.8567     0.5021      1.003        104        608: 100%|██████████| 8/8 [00:01<00:00,  4.84it/s]\n",
            "                 Class     Images  Instances      Box(P          R      mAP50  mAP50-95): 100%|██████████| 1/1 [00:00<00:00,  4.32it/s]"
          ]
        },
        {
          "name": "stdout",
          "output_type": "stream",
          "text": [
            "                   all         31        101        0.9       0.79      0.863      0.506\n"
          ]
        },
        {
          "name": "stderr",
          "output_type": "stream",
          "text": [
            "\n"
          ]
        },
        {
          "name": "stdout",
          "output_type": "stream",
          "text": [
            "\n",
            "      Epoch    GPU_mem   box_loss   cls_loss   dfl_loss  Instances       Size\n"
          ]
        },
        {
          "name": "stderr",
          "output_type": "stream",
          "text": [
            "     63/100      3.83G     0.8765     0.5073      1.004         82        608: 100%|██████████| 8/8 [00:01<00:00,  4.88it/s]\n",
            "                 Class     Images  Instances      Box(P          R      mAP50  mAP50-95): 100%|██████████| 1/1 [00:00<00:00,  4.17it/s]"
          ]
        },
        {
          "name": "stdout",
          "output_type": "stream",
          "text": [
            "                   all         31        101      0.898      0.768      0.866      0.509\n"
          ]
        },
        {
          "name": "stderr",
          "output_type": "stream",
          "text": [
            "\n"
          ]
        },
        {
          "name": "stdout",
          "output_type": "stream",
          "text": [
            "\n",
            "      Epoch    GPU_mem   box_loss   cls_loss   dfl_loss  Instances       Size\n"
          ]
        },
        {
          "name": "stderr",
          "output_type": "stream",
          "text": [
            "     64/100      3.82G     0.8792     0.5182      1.023         66        608: 100%|██████████| 8/8 [00:01<00:00,  4.86it/s]\n",
            "                 Class     Images  Instances      Box(P          R      mAP50  mAP50-95): 100%|██████████| 1/1 [00:00<00:00,  4.19it/s]"
          ]
        },
        {
          "name": "stdout",
          "output_type": "stream",
          "text": [
            "                   all         31        101      0.887      0.783      0.877        0.5\n"
          ]
        },
        {
          "name": "stderr",
          "output_type": "stream",
          "text": [
            "\n"
          ]
        },
        {
          "name": "stdout",
          "output_type": "stream",
          "text": [
            "\n",
            "      Epoch    GPU_mem   box_loss   cls_loss   dfl_loss  Instances       Size\n"
          ]
        },
        {
          "name": "stderr",
          "output_type": "stream",
          "text": [
            "     65/100      3.83G     0.8825     0.5093      1.012         66        608: 100%|██████████| 8/8 [00:01<00:00,  4.88it/s]\n",
            "                 Class     Images  Instances      Box(P          R      mAP50  mAP50-95): 100%|██████████| 1/1 [00:00<00:00,  4.37it/s]"
          ]
        },
        {
          "name": "stdout",
          "output_type": "stream",
          "text": [
            "                   all         31        101      0.898      0.772      0.875       0.51\n"
          ]
        },
        {
          "name": "stderr",
          "output_type": "stream",
          "text": [
            "\n"
          ]
        },
        {
          "name": "stdout",
          "output_type": "stream",
          "text": [
            "\n",
            "      Epoch    GPU_mem   box_loss   cls_loss   dfl_loss  Instances       Size\n"
          ]
        },
        {
          "name": "stderr",
          "output_type": "stream",
          "text": [
            "     66/100      3.83G     0.8319     0.4838     0.9988         58        608: 100%|██████████| 8/8 [00:01<00:00,  4.88it/s]\n",
            "                 Class     Images  Instances      Box(P          R      mAP50  mAP50-95): 100%|██████████| 1/1 [00:00<00:00,  4.40it/s]"
          ]
        },
        {
          "name": "stdout",
          "output_type": "stream",
          "text": [
            "                   all         31        101      0.901       0.78      0.881      0.511\n"
          ]
        },
        {
          "name": "stderr",
          "output_type": "stream",
          "text": [
            "\n"
          ]
        },
        {
          "name": "stdout",
          "output_type": "stream",
          "text": [
            "\n",
            "      Epoch    GPU_mem   box_loss   cls_loss   dfl_loss  Instances       Size\n"
          ]
        },
        {
          "name": "stderr",
          "output_type": "stream",
          "text": [
            "     67/100      3.83G     0.8419     0.4764     0.9863         91        608: 100%|██████████| 8/8 [00:01<00:00,  4.93it/s]\n",
            "                 Class     Images  Instances      Box(P          R      mAP50  mAP50-95): 100%|██████████| 1/1 [00:00<00:00,  4.44it/s]"
          ]
        },
        {
          "name": "stdout",
          "output_type": "stream",
          "text": [
            "                   all         31        101      0.889      0.775      0.888      0.511\n"
          ]
        },
        {
          "name": "stderr",
          "output_type": "stream",
          "text": [
            "\n"
          ]
        },
        {
          "name": "stdout",
          "output_type": "stream",
          "text": [
            "\n",
            "      Epoch    GPU_mem   box_loss   cls_loss   dfl_loss  Instances       Size\n"
          ]
        },
        {
          "name": "stderr",
          "output_type": "stream",
          "text": [
            "     68/100      3.89G     0.8616     0.4914      1.014         72        608: 100%|██████████| 8/8 [00:01<00:00,  4.87it/s]\n",
            "                 Class     Images  Instances      Box(P          R      mAP50  mAP50-95): 100%|██████████| 1/1 [00:00<00:00,  4.42it/s]"
          ]
        },
        {
          "name": "stdout",
          "output_type": "stream",
          "text": [
            "                   all         31        101      0.892      0.804      0.889      0.504\n"
          ]
        },
        {
          "name": "stderr",
          "output_type": "stream",
          "text": [
            "\n"
          ]
        },
        {
          "name": "stdout",
          "output_type": "stream",
          "text": [
            "\n",
            "      Epoch    GPU_mem   box_loss   cls_loss   dfl_loss  Instances       Size\n"
          ]
        },
        {
          "name": "stderr",
          "output_type": "stream",
          "text": [
            "     69/100      3.87G     0.8015     0.4706     0.9743         68        608: 100%|██████████| 8/8 [00:01<00:00,  4.89it/s]\n",
            "                 Class     Images  Instances      Box(P          R      mAP50  mAP50-95): 100%|██████████| 1/1 [00:00<00:00,  4.35it/s]"
          ]
        },
        {
          "name": "stdout",
          "output_type": "stream",
          "text": [
            "                   all         31        101      0.916      0.772      0.884      0.507\n"
          ]
        },
        {
          "name": "stderr",
          "output_type": "stream",
          "text": [
            "\n"
          ]
        },
        {
          "name": "stdout",
          "output_type": "stream",
          "text": [
            "\n",
            "      Epoch    GPU_mem   box_loss   cls_loss   dfl_loss  Instances       Size\n"
          ]
        },
        {
          "name": "stderr",
          "output_type": "stream",
          "text": [
            "     70/100      3.86G     0.8058     0.4563     0.9745         73        608: 100%|██████████| 8/8 [00:01<00:00,  4.87it/s]\n",
            "                 Class     Images  Instances      Box(P          R      mAP50  mAP50-95): 100%|██████████| 1/1 [00:00<00:00,  4.30it/s]"
          ]
        },
        {
          "name": "stdout",
          "output_type": "stream",
          "text": [
            "                   all         31        101      0.888        0.8      0.866      0.496\n"
          ]
        },
        {
          "name": "stderr",
          "output_type": "stream",
          "text": [
            "\n"
          ]
        },
        {
          "name": "stdout",
          "output_type": "stream",
          "text": [
            "\n",
            "      Epoch    GPU_mem   box_loss   cls_loss   dfl_loss  Instances       Size\n"
          ]
        },
        {
          "name": "stderr",
          "output_type": "stream",
          "text": [
            "     71/100      3.83G     0.7997     0.4712     0.9717         54        608: 100%|██████████| 8/8 [00:01<00:00,  4.91it/s]\n",
            "                 Class     Images  Instances      Box(P          R      mAP50  mAP50-95): 100%|██████████| 1/1 [00:00<00:00,  4.40it/s]"
          ]
        },
        {
          "name": "stdout",
          "output_type": "stream",
          "text": [
            "                   all         31        101      0.867      0.789      0.867      0.512\n"
          ]
        },
        {
          "name": "stderr",
          "output_type": "stream",
          "text": [
            "\n"
          ]
        },
        {
          "name": "stdout",
          "output_type": "stream",
          "text": [
            "\n",
            "      Epoch    GPU_mem   box_loss   cls_loss   dfl_loss  Instances       Size\n"
          ]
        },
        {
          "name": "stderr",
          "output_type": "stream",
          "text": [
            "     72/100      3.83G     0.8244     0.4735     0.9762         59        608: 100%|██████████| 8/8 [00:01<00:00,  4.87it/s]\n",
            "                 Class     Images  Instances      Box(P          R      mAP50  mAP50-95): 100%|██████████| 1/1 [00:00<00:00,  4.19it/s]"
          ]
        },
        {
          "name": "stdout",
          "output_type": "stream",
          "text": [
            "                   all         31        101      0.915      0.787      0.879      0.513\n"
          ]
        },
        {
          "name": "stderr",
          "output_type": "stream",
          "text": [
            "\n"
          ]
        },
        {
          "name": "stdout",
          "output_type": "stream",
          "text": [
            "\n",
            "      Epoch    GPU_mem   box_loss   cls_loss   dfl_loss  Instances       Size\n"
          ]
        },
        {
          "name": "stderr",
          "output_type": "stream",
          "text": [
            "     73/100      3.87G     0.7725     0.4535     0.9611         46        608: 100%|██████████| 8/8 [00:01<00:00,  4.88it/s]\n",
            "                 Class     Images  Instances      Box(P          R      mAP50  mAP50-95): 100%|██████████| 1/1 [00:00<00:00,  4.42it/s]"
          ]
        },
        {
          "name": "stdout",
          "output_type": "stream",
          "text": [
            "                   all         31        101      0.848      0.779      0.874       0.51\n"
          ]
        },
        {
          "name": "stderr",
          "output_type": "stream",
          "text": [
            "\n"
          ]
        },
        {
          "name": "stdout",
          "output_type": "stream",
          "text": [
            "\n",
            "      Epoch    GPU_mem   box_loss   cls_loss   dfl_loss  Instances       Size\n"
          ]
        },
        {
          "name": "stderr",
          "output_type": "stream",
          "text": [
            "     74/100      3.83G     0.7723     0.4468     0.9696         69        608: 100%|██████████| 8/8 [00:01<00:00,  4.83it/s]\n",
            "                 Class     Images  Instances      Box(P          R      mAP50  mAP50-95): 100%|██████████| 1/1 [00:00<00:00,  4.09it/s]"
          ]
        },
        {
          "name": "stdout",
          "output_type": "stream",
          "text": [
            "                   all         31        101      0.904      0.756      0.878      0.526\n"
          ]
        },
        {
          "name": "stderr",
          "output_type": "stream",
          "text": [
            "\n"
          ]
        },
        {
          "name": "stdout",
          "output_type": "stream",
          "text": [
            "\n",
            "      Epoch    GPU_mem   box_loss   cls_loss   dfl_loss  Instances       Size\n"
          ]
        },
        {
          "name": "stderr",
          "output_type": "stream",
          "text": [
            "     75/100      3.86G     0.7908       0.45     0.9586         85        608: 100%|██████████| 8/8 [00:01<00:00,  4.89it/s]\n",
            "                 Class     Images  Instances      Box(P          R      mAP50  mAP50-95): 100%|██████████| 1/1 [00:00<00:00,  4.25it/s]"
          ]
        },
        {
          "name": "stdout",
          "output_type": "stream",
          "text": [
            "                   all         31        101      0.956      0.718      0.876      0.515\n"
          ]
        },
        {
          "name": "stderr",
          "output_type": "stream",
          "text": [
            "\n"
          ]
        },
        {
          "name": "stdout",
          "output_type": "stream",
          "text": [
            "\n",
            "      Epoch    GPU_mem   box_loss   cls_loss   dfl_loss  Instances       Size\n"
          ]
        },
        {
          "name": "stderr",
          "output_type": "stream",
          "text": [
            "     76/100      3.83G     0.7637     0.4512      0.973         90        608: 100%|██████████| 8/8 [00:01<00:00,  4.89it/s]\n",
            "                 Class     Images  Instances      Box(P          R      mAP50  mAP50-95): 100%|██████████| 1/1 [00:00<00:00,  4.27it/s]"
          ]
        },
        {
          "name": "stdout",
          "output_type": "stream",
          "text": [
            "                   all         31        101      0.955      0.739      0.875      0.518\n"
          ]
        },
        {
          "name": "stderr",
          "output_type": "stream",
          "text": [
            "\n"
          ]
        },
        {
          "name": "stdout",
          "output_type": "stream",
          "text": [
            "\n",
            "      Epoch    GPU_mem   box_loss   cls_loss   dfl_loss  Instances       Size\n"
          ]
        },
        {
          "name": "stderr",
          "output_type": "stream",
          "text": [
            "     77/100      3.84G     0.7918     0.4527     0.9603         72        608: 100%|██████████| 8/8 [00:01<00:00,  4.89it/s]\n",
            "                 Class     Images  Instances      Box(P          R      mAP50  mAP50-95): 100%|██████████| 1/1 [00:00<00:00,  4.30it/s]"
          ]
        },
        {
          "name": "stdout",
          "output_type": "stream",
          "text": [
            "                   all         31        101       0.83      0.816      0.863      0.516\n"
          ]
        },
        {
          "name": "stderr",
          "output_type": "stream",
          "text": [
            "\n"
          ]
        },
        {
          "name": "stdout",
          "output_type": "stream",
          "text": [
            "\n",
            "      Epoch    GPU_mem   box_loss   cls_loss   dfl_loss  Instances       Size\n"
          ]
        },
        {
          "name": "stderr",
          "output_type": "stream",
          "text": [
            "     78/100      3.87G     0.7545     0.4475      0.973         61        608: 100%|██████████| 8/8 [00:01<00:00,  4.90it/s]\n",
            "                 Class     Images  Instances      Box(P          R      mAP50  mAP50-95): 100%|██████████| 1/1 [00:00<00:00,  4.06it/s]"
          ]
        },
        {
          "name": "stdout",
          "output_type": "stream",
          "text": [
            "                   all         31        101      0.871      0.783       0.87      0.517\n"
          ]
        },
        {
          "name": "stderr",
          "output_type": "stream",
          "text": [
            "\n"
          ]
        },
        {
          "name": "stdout",
          "output_type": "stream",
          "text": [
            "\n",
            "      Epoch    GPU_mem   box_loss   cls_loss   dfl_loss  Instances       Size\n"
          ]
        },
        {
          "name": "stderr",
          "output_type": "stream",
          "text": [
            "     79/100       3.9G     0.7695     0.4372     0.9523         85        608: 100%|██████████| 8/8 [00:01<00:00,  4.86it/s]\n",
            "                 Class     Images  Instances      Box(P          R      mAP50  mAP50-95): 100%|██████████| 1/1 [00:00<00:00,  4.43it/s]"
          ]
        },
        {
          "name": "stdout",
          "output_type": "stream",
          "text": [
            "                   all         31        101      0.878      0.792      0.876       0.51\n"
          ]
        },
        {
          "name": "stderr",
          "output_type": "stream",
          "text": [
            "\n"
          ]
        },
        {
          "name": "stdout",
          "output_type": "stream",
          "text": [
            "\n",
            "      Epoch    GPU_mem   box_loss   cls_loss   dfl_loss  Instances       Size\n"
          ]
        },
        {
          "name": "stderr",
          "output_type": "stream",
          "text": [
            "     80/100      3.83G     0.7495     0.4387     0.9656         55        608: 100%|██████████| 8/8 [00:01<00:00,  4.90it/s]\n",
            "                 Class     Images  Instances      Box(P          R      mAP50  mAP50-95): 100%|██████████| 1/1 [00:00<00:00,  4.34it/s]"
          ]
        },
        {
          "name": "stdout",
          "output_type": "stream",
          "text": [
            "                   all         31        101       0.86       0.79      0.875       0.51\n"
          ]
        },
        {
          "name": "stderr",
          "output_type": "stream",
          "text": [
            "\n"
          ]
        },
        {
          "name": "stdout",
          "output_type": "stream",
          "text": [
            "\n",
            "      Epoch    GPU_mem   box_loss   cls_loss   dfl_loss  Instances       Size\n"
          ]
        },
        {
          "name": "stderr",
          "output_type": "stream",
          "text": [
            "     81/100      3.86G     0.7724     0.4398     0.9661         64        608: 100%|██████████| 8/8 [00:01<00:00,  4.89it/s]\n",
            "                 Class     Images  Instances      Box(P          R      mAP50  mAP50-95): 100%|██████████| 1/1 [00:00<00:00,  4.44it/s]"
          ]
        },
        {
          "name": "stdout",
          "output_type": "stream",
          "text": [
            "                   all         31        101      0.938       0.77      0.874      0.502\n"
          ]
        },
        {
          "name": "stderr",
          "output_type": "stream",
          "text": [
            "\n"
          ]
        },
        {
          "name": "stdout",
          "output_type": "stream",
          "text": [
            "\n",
            "      Epoch    GPU_mem   box_loss   cls_loss   dfl_loss  Instances       Size\n"
          ]
        },
        {
          "name": "stderr",
          "output_type": "stream",
          "text": [
            "     82/100      3.85G     0.7176     0.4117     0.9371         70        608: 100%|██████████| 8/8 [00:01<00:00,  4.89it/s]\n",
            "                 Class     Images  Instances      Box(P          R      mAP50  mAP50-95): 100%|██████████| 1/1 [00:00<00:00,  4.35it/s]"
          ]
        },
        {
          "name": "stdout",
          "output_type": "stream",
          "text": [
            "                   all         31        101      0.882      0.789      0.874      0.489\n"
          ]
        },
        {
          "name": "stderr",
          "output_type": "stream",
          "text": [
            "\n"
          ]
        },
        {
          "name": "stdout",
          "output_type": "stream",
          "text": [
            "\n",
            "      Epoch    GPU_mem   box_loss   cls_loss   dfl_loss  Instances       Size\n"
          ]
        },
        {
          "name": "stderr",
          "output_type": "stream",
          "text": [
            "     83/100      3.85G     0.7271     0.4168     0.9627         40        608: 100%|██████████| 8/8 [00:01<00:00,  4.85it/s]\n",
            "                 Class     Images  Instances      Box(P          R      mAP50  mAP50-95): 100%|██████████| 1/1 [00:00<00:00,  3.96it/s]"
          ]
        },
        {
          "name": "stdout",
          "output_type": "stream",
          "text": [
            "                   all         31        101       0.84      0.808      0.869      0.507\n"
          ]
        },
        {
          "name": "stderr",
          "output_type": "stream",
          "text": [
            "\n"
          ]
        },
        {
          "name": "stdout",
          "output_type": "stream",
          "text": [
            "\n",
            "      Epoch    GPU_mem   box_loss   cls_loss   dfl_loss  Instances       Size\n"
          ]
        },
        {
          "name": "stderr",
          "output_type": "stream",
          "text": [
            "     84/100      3.85G      0.745     0.4187     0.9555         69        608: 100%|██████████| 8/8 [00:01<00:00,  4.87it/s]\n",
            "                 Class     Images  Instances      Box(P          R      mAP50  mAP50-95): 100%|██████████| 1/1 [00:00<00:00,  4.35it/s]"
          ]
        },
        {
          "name": "stdout",
          "output_type": "stream",
          "text": [
            "                   all         31        101       0.88      0.786      0.876      0.514\n"
          ]
        },
        {
          "name": "stderr",
          "output_type": "stream",
          "text": [
            "\n"
          ]
        },
        {
          "name": "stdout",
          "output_type": "stream",
          "text": [
            "\n",
            "      Epoch    GPU_mem   box_loss   cls_loss   dfl_loss  Instances       Size\n"
          ]
        },
        {
          "name": "stderr",
          "output_type": "stream",
          "text": [
            "     85/100      3.82G     0.7313     0.4181     0.9518         84        608: 100%|██████████| 8/8 [00:01<00:00,  4.87it/s]\n",
            "                 Class     Images  Instances      Box(P          R      mAP50  mAP50-95): 100%|██████████| 1/1 [00:00<00:00,  4.37it/s]"
          ]
        },
        {
          "name": "stdout",
          "output_type": "stream",
          "text": [
            "                   all         31        101      0.865      0.792      0.879       0.52\n"
          ]
        },
        {
          "name": "stderr",
          "output_type": "stream",
          "text": [
            "\n"
          ]
        },
        {
          "name": "stdout",
          "output_type": "stream",
          "text": [
            "\n",
            "      Epoch    GPU_mem   box_loss   cls_loss   dfl_loss  Instances       Size\n"
          ]
        },
        {
          "name": "stderr",
          "output_type": "stream",
          "text": [
            "     86/100      3.83G     0.7319     0.4276     0.9386         79        608: 100%|██████████| 8/8 [00:01<00:00,  4.87it/s]\n",
            "                 Class     Images  Instances      Box(P          R      mAP50  mAP50-95): 100%|██████████| 1/1 [00:00<00:00,  4.36it/s]"
          ]
        },
        {
          "name": "stdout",
          "output_type": "stream",
          "text": [
            "                   all         31        101      0.851      0.796      0.873      0.518\n"
          ]
        },
        {
          "name": "stderr",
          "output_type": "stream",
          "text": [
            "\n"
          ]
        },
        {
          "name": "stdout",
          "output_type": "stream",
          "text": [
            "\n",
            "      Epoch    GPU_mem   box_loss   cls_loss   dfl_loss  Instances       Size\n"
          ]
        },
        {
          "name": "stderr",
          "output_type": "stream",
          "text": [
            "     87/100      3.82G     0.7185     0.4147     0.9411        112        608: 100%|██████████| 8/8 [00:01<00:00,  4.88it/s]\n",
            "                 Class     Images  Instances      Box(P          R      mAP50  mAP50-95): 100%|██████████| 1/1 [00:00<00:00,  4.26it/s]"
          ]
        },
        {
          "name": "stdout",
          "output_type": "stream",
          "text": [
            "                   all         31        101      0.889      0.779      0.874      0.514\n"
          ]
        },
        {
          "name": "stderr",
          "output_type": "stream",
          "text": [
            "\n"
          ]
        },
        {
          "name": "stdout",
          "output_type": "stream",
          "text": [
            "\n",
            "      Epoch    GPU_mem   box_loss   cls_loss   dfl_loss  Instances       Size\n"
          ]
        },
        {
          "name": "stderr",
          "output_type": "stream",
          "text": [
            "     88/100      3.87G     0.6993     0.3948     0.9165         90        608: 100%|██████████| 8/8 [00:01<00:00,  4.87it/s]\n",
            "                 Class     Images  Instances      Box(P          R      mAP50  mAP50-95): 100%|██████████| 1/1 [00:00<00:00,  4.40it/s]"
          ]
        },
        {
          "name": "stdout",
          "output_type": "stream",
          "text": [
            "                   all         31        101      0.935      0.772      0.879      0.505\n"
          ]
        },
        {
          "name": "stderr",
          "output_type": "stream",
          "text": [
            "\n"
          ]
        },
        {
          "name": "stdout",
          "output_type": "stream",
          "text": [
            "\n",
            "      Epoch    GPU_mem   box_loss   cls_loss   dfl_loss  Instances       Size\n"
          ]
        },
        {
          "name": "stderr",
          "output_type": "stream",
          "text": [
            "     89/100      3.83G     0.6998     0.4111     0.9339         99        608: 100%|██████████| 8/8 [00:01<00:00,  4.86it/s]\n",
            "                 Class     Images  Instances      Box(P          R      mAP50  mAP50-95): 100%|██████████| 1/1 [00:00<00:00,  4.27it/s]"
          ]
        },
        {
          "name": "stdout",
          "output_type": "stream",
          "text": [
            "                   all         31        101      0.924       0.77      0.883       0.52\n"
          ]
        },
        {
          "name": "stderr",
          "output_type": "stream",
          "text": [
            "\n"
          ]
        },
        {
          "name": "stdout",
          "output_type": "stream",
          "text": [
            "\n",
            "      Epoch    GPU_mem   box_loss   cls_loss   dfl_loss  Instances       Size\n"
          ]
        },
        {
          "name": "stderr",
          "output_type": "stream",
          "text": [
            "     90/100      3.88G     0.6861     0.3876     0.9242         91        608: 100%|██████████| 8/8 [00:01<00:00,  4.89it/s]\n",
            "                 Class     Images  Instances      Box(P          R      mAP50  mAP50-95): 100%|██████████| 1/1 [00:00<00:00,  4.55it/s]"
          ]
        },
        {
          "name": "stdout",
          "output_type": "stream",
          "text": [
            "                   all         31        101      0.906      0.776      0.882      0.519\n"
          ]
        },
        {
          "name": "stderr",
          "output_type": "stream",
          "text": [
            "\n"
          ]
        },
        {
          "name": "stdout",
          "output_type": "stream",
          "text": [
            "Closing dataloader mosaic\n",
            "\n",
            "      Epoch    GPU_mem   box_loss   cls_loss   dfl_loss  Instances       Size\n"
          ]
        },
        {
          "name": "stderr",
          "output_type": "stream",
          "text": [
            "     91/100      3.81G     0.6905     0.3716     0.9202         40        608: 100%|██████████| 8/8 [00:02<00:00,  3.08it/s]\n",
            "                 Class     Images  Instances      Box(P          R      mAP50  mAP50-95): 100%|██████████| 1/1 [00:00<00:00,  2.81it/s]"
          ]
        },
        {
          "name": "stdout",
          "output_type": "stream",
          "text": [
            "                   all         31        101       0.89      0.803      0.884      0.531\n"
          ]
        },
        {
          "name": "stderr",
          "output_type": "stream",
          "text": [
            "\n"
          ]
        },
        {
          "name": "stdout",
          "output_type": "stream",
          "text": [
            "\n",
            "      Epoch    GPU_mem   box_loss   cls_loss   dfl_loss  Instances       Size\n"
          ]
        },
        {
          "name": "stderr",
          "output_type": "stream",
          "text": [
            "     92/100      3.83G     0.6506     0.3722     0.9214         30        608: 100%|██████████| 8/8 [00:01<00:00,  4.44it/s]\n",
            "                 Class     Images  Instances      Box(P          R      mAP50  mAP50-95): 100%|██████████| 1/1 [00:00<00:00,  3.67it/s]"
          ]
        },
        {
          "name": "stdout",
          "output_type": "stream",
          "text": [
            "                   all         31        101      0.893       0.79      0.888      0.523\n"
          ]
        },
        {
          "name": "stderr",
          "output_type": "stream",
          "text": [
            "\n"
          ]
        },
        {
          "name": "stdout",
          "output_type": "stream",
          "text": [
            "\n",
            "      Epoch    GPU_mem   box_loss   cls_loss   dfl_loss  Instances       Size\n"
          ]
        },
        {
          "name": "stderr",
          "output_type": "stream",
          "text": [
            "     93/100      3.84G     0.6707     0.3662     0.9136         37        608: 100%|██████████| 8/8 [00:01<00:00,  4.91it/s]\n",
            "                 Class     Images  Instances      Box(P          R      mAP50  mAP50-95): 100%|██████████| 1/1 [00:00<00:00,  4.18it/s]"
          ]
        },
        {
          "name": "stdout",
          "output_type": "stream",
          "text": [
            "                   all         31        101      0.877       0.79      0.893       0.51\n"
          ]
        },
        {
          "name": "stderr",
          "output_type": "stream",
          "text": [
            "\n"
          ]
        },
        {
          "name": "stdout",
          "output_type": "stream",
          "text": [
            "\n",
            "      Epoch    GPU_mem   box_loss   cls_loss   dfl_loss  Instances       Size\n"
          ]
        },
        {
          "name": "stderr",
          "output_type": "stream",
          "text": [
            "     94/100      3.85G     0.6627     0.3746     0.9141         56        608: 100%|██████████| 8/8 [00:01<00:00,  4.89it/s]\n",
            "                 Class     Images  Instances      Box(P          R      mAP50  mAP50-95): 100%|██████████| 1/1 [00:00<00:00,  4.40it/s]"
          ]
        },
        {
          "name": "stdout",
          "output_type": "stream",
          "text": [
            "                   all         31        101      0.892      0.779      0.891      0.513\n"
          ]
        },
        {
          "name": "stderr",
          "output_type": "stream",
          "text": [
            "\n"
          ]
        },
        {
          "name": "stdout",
          "output_type": "stream",
          "text": [
            "\n",
            "      Epoch    GPU_mem   box_loss   cls_loss   dfl_loss  Instances       Size\n"
          ]
        },
        {
          "name": "stderr",
          "output_type": "stream",
          "text": [
            "     95/100      3.82G     0.6186     0.3452     0.9014         31        608: 100%|██████████| 8/8 [00:01<00:00,  4.82it/s]\n",
            "                 Class     Images  Instances      Box(P          R      mAP50  mAP50-95): 100%|██████████| 1/1 [00:00<00:00,  4.35it/s]"
          ]
        },
        {
          "name": "stdout",
          "output_type": "stream",
          "text": [
            "                   all         31        101      0.825      0.832      0.893      0.513\n"
          ]
        },
        {
          "name": "stderr",
          "output_type": "stream",
          "text": [
            "\n"
          ]
        },
        {
          "name": "stdout",
          "output_type": "stream",
          "text": [
            "\n",
            "      Epoch    GPU_mem   box_loss   cls_loss   dfl_loss  Instances       Size\n"
          ]
        },
        {
          "name": "stderr",
          "output_type": "stream",
          "text": [
            "     96/100      3.84G     0.6374     0.3653     0.9094         35        608: 100%|██████████| 8/8 [00:01<00:00,  4.93it/s]\n",
            "                 Class     Images  Instances      Box(P          R      mAP50  mAP50-95): 100%|██████████| 1/1 [00:00<00:00,  4.42it/s]"
          ]
        },
        {
          "name": "stdout",
          "output_type": "stream",
          "text": [
            "                   all         31        101      0.836      0.832      0.894      0.515\n"
          ]
        },
        {
          "name": "stderr",
          "output_type": "stream",
          "text": [
            "\n"
          ]
        },
        {
          "name": "stdout",
          "output_type": "stream",
          "text": [
            "\n",
            "      Epoch    GPU_mem   box_loss   cls_loss   dfl_loss  Instances       Size\n"
          ]
        },
        {
          "name": "stderr",
          "output_type": "stream",
          "text": [
            "     97/100      3.82G     0.6266     0.3595      0.905         32        608: 100%|██████████| 8/8 [00:01<00:00,  4.90it/s]\n",
            "                 Class     Images  Instances      Box(P          R      mAP50  mAP50-95): 100%|██████████| 1/1 [00:00<00:00,  4.37it/s]"
          ]
        },
        {
          "name": "stdout",
          "output_type": "stream",
          "text": [
            "                   all         31        101      0.842      0.831      0.895      0.526\n"
          ]
        },
        {
          "name": "stderr",
          "output_type": "stream",
          "text": [
            "\n"
          ]
        },
        {
          "name": "stdout",
          "output_type": "stream",
          "text": [
            "\n",
            "      Epoch    GPU_mem   box_loss   cls_loss   dfl_loss  Instances       Size\n"
          ]
        },
        {
          "name": "stderr",
          "output_type": "stream",
          "text": [
            "     98/100      3.88G      0.604     0.3535     0.8991         35        608: 100%|██████████| 8/8 [00:01<00:00,  4.92it/s]\n",
            "                 Class     Images  Instances      Box(P          R      mAP50  mAP50-95): 100%|██████████| 1/1 [00:00<00:00,  4.43it/s]"
          ]
        },
        {
          "name": "stdout",
          "output_type": "stream",
          "text": [
            "                   all         31        101      0.867      0.827      0.899      0.538\n"
          ]
        },
        {
          "name": "stderr",
          "output_type": "stream",
          "text": [
            "\n"
          ]
        },
        {
          "name": "stdout",
          "output_type": "stream",
          "text": [
            "\n",
            "      Epoch    GPU_mem   box_loss   cls_loss   dfl_loss  Instances       Size\n"
          ]
        },
        {
          "name": "stderr",
          "output_type": "stream",
          "text": [
            "     99/100      3.82G     0.6317     0.3643     0.9273         27        608: 100%|██████████| 8/8 [00:01<00:00,  4.94it/s]\n",
            "                 Class     Images  Instances      Box(P          R      mAP50  mAP50-95): 100%|██████████| 1/1 [00:00<00:00,  4.35it/s]"
          ]
        },
        {
          "name": "stdout",
          "output_type": "stream",
          "text": [
            "                   all         31        101      0.842       0.83      0.895      0.528\n"
          ]
        },
        {
          "name": "stderr",
          "output_type": "stream",
          "text": [
            "\n"
          ]
        },
        {
          "name": "stdout",
          "output_type": "stream",
          "text": [
            "\n",
            "      Epoch    GPU_mem   box_loss   cls_loss   dfl_loss  Instances       Size\n"
          ]
        },
        {
          "name": "stderr",
          "output_type": "stream",
          "text": [
            "    100/100      3.87G     0.5825     0.3282     0.8929         33        608: 100%|██████████| 8/8 [00:01<00:00,  4.78it/s]\n",
            "                 Class     Images  Instances      Box(P          R      mAP50  mAP50-95): 100%|██████████| 1/1 [00:00<00:00,  3.87it/s]"
          ]
        },
        {
          "name": "stdout",
          "output_type": "stream",
          "text": [
            "                   all         31        101      0.862      0.828        0.9       0.53\n"
          ]
        },
        {
          "name": "stderr",
          "output_type": "stream",
          "text": [
            "\n"
          ]
        },
        {
          "name": "stdout",
          "output_type": "stream",
          "text": [
            "\n",
            "100 epochs completed in 0.087 hours.\n",
            "Optimizer stripped from runs/detect/train2/weights/last.pt, 22.5MB\n",
            "Optimizer stripped from runs/detect/train2/weights/best.pt, 22.5MB\n",
            "\n",
            "Validating runs/detect/train2/weights/best.pt...\n",
            "Ultralytics YOLOv8.1.29 🚀 Python-3.10.10 torch-2.2.1+cu121 CUDA:0 (Tesla T4, 15102MiB)\n",
            "Model summary (fused): 168 layers, 11127519 parameters, 0 gradients, 28.4 GFLOPs\n"
          ]
        },
        {
          "name": "stderr",
          "output_type": "stream",
          "text": [
            "                 Class     Images  Instances      Box(P          R      mAP50  mAP50-95): 100%|██████████| 1/1 [00:00<00:00,  4.22it/s]\n"
          ]
        },
        {
          "name": "stdout",
          "output_type": "stream",
          "text": [
            "                   all         31        101      0.867      0.827      0.899      0.536\n",
            "                Helmet         31         18       0.89          1      0.995      0.707\n",
            "               Goggles         31          9      0.775      0.765      0.881      0.419\n",
            "                Jacket         31         14      0.918      0.786      0.915       0.66\n",
            "                Gloves         31         52      0.836      0.586      0.711      0.346\n",
            "              Footwear         31          8      0.917          1      0.995      0.549\n",
            "Speed: 0.3ms preprocess, 3.6ms inference, 0.0ms loss, 0.7ms postprocess per image\n",
            "Results saved to \u001b[1mruns/detect/train2\u001b[0m\n"
          ]
        }
      ],
      "source": [
        "results = detection_model.train(data='/teamspace/studios/this_studio/OpenImgFolder/data/data.yaml', epochs=100, imgsz=600)"
      ]
    },
    {
      "cell_type": "code",
      "execution_count": null,
      "metadata": {
        "colab": {
          "base_uri": "https://localhost:8080/"
        },
        "id": "oMY4lvMG5O2w",
        "outputId": "1e37b3d7-c832-4274-eab9-5a545fc3e9d1"
      },
      "outputs": [
        {
          "data": {
            "text/plain": [
              "[ultralytics.engine.results.Results object with attributes:\n",
              " \n",
              " boxes: ultralytics.engine.results.Boxes object\n",
              " keypoints: None\n",
              " masks: None\n",
              " names: {0: 'Accordion', 1: 'Adhesive tape', 2: 'Aircraft', 3: 'Airplane', 4: 'Alarm clock', 5: 'Alpaca', 6: 'Ambulance', 7: 'Animal', 8: 'Ant', 9: 'Antelope', 10: 'Apple', 11: 'Armadillo', 12: 'Artichoke', 13: 'Auto part', 14: 'Axe', 15: 'Backpack', 16: 'Bagel', 17: 'Baked goods', 18: 'Balance beam', 19: 'Ball', 20: 'Balloon', 21: 'Banana', 22: 'Band-aid', 23: 'Banjo', 24: 'Barge', 25: 'Barrel', 26: 'Baseball bat', 27: 'Baseball glove', 28: 'Bat (Animal)', 29: 'Bathroom accessory', 30: 'Bathroom cabinet', 31: 'Bathtub', 32: 'Beaker', 33: 'Bear', 34: 'Bed', 35: 'Bee', 36: 'Beehive', 37: 'Beer', 38: 'Beetle', 39: 'Bell pepper', 40: 'Belt', 41: 'Bench', 42: 'Bicycle', 43: 'Bicycle helmet', 44: 'Bicycle wheel', 45: 'Bidet', 46: 'Billboard', 47: 'Billiard table', 48: 'Binoculars', 49: 'Bird', 50: 'Blender', 51: 'Blue jay', 52: 'Boat', 53: 'Bomb', 54: 'Book', 55: 'Bookcase', 56: 'Boot', 57: 'Bottle', 58: 'Bottle opener', 59: 'Bow and arrow', 60: 'Bowl', 61: 'Bowling equipment', 62: 'Box', 63: 'Boy', 64: 'Brassiere', 65: 'Bread', 66: 'Briefcase', 67: 'Broccoli', 68: 'Bronze sculpture', 69: 'Brown bear', 70: 'Building', 71: 'Bull', 72: 'Burrito', 73: 'Bus', 74: 'Bust', 75: 'Butterfly', 76: 'Cabbage', 77: 'Cabinetry', 78: 'Cake', 79: 'Cake stand', 80: 'Calculator', 81: 'Camel', 82: 'Camera', 83: 'Can opener', 84: 'Canary', 85: 'Candle', 86: 'Candy', 87: 'Cannon', 88: 'Canoe', 89: 'Cantaloupe', 90: 'Car', 91: 'Carnivore', 92: 'Carrot', 93: 'Cart', 94: 'Cassette deck', 95: 'Castle', 96: 'Cat', 97: 'Cat furniture', 98: 'Caterpillar', 99: 'Cattle', 100: 'Ceiling fan', 101: 'Cello', 102: 'Centipede', 103: 'Chainsaw', 104: 'Chair', 105: 'Cheese', 106: 'Cheetah', 107: 'Chest of drawers', 108: 'Chicken', 109: 'Chime', 110: 'Chisel', 111: 'Chopsticks', 112: 'Christmas tree', 113: 'Clock', 114: 'Closet', 115: 'Clothing', 116: 'Coat', 117: 'Cocktail', 118: 'Cocktail shaker', 119: 'Coconut', 120: 'Coffee', 121: 'Coffee cup', 122: 'Coffee table', 123: 'Coffeemaker', 124: 'Coin', 125: 'Common fig', 126: 'Common sunflower', 127: 'Computer keyboard', 128: 'Computer monitor', 129: 'Computer mouse', 130: 'Container', 131: 'Convenience store', 132: 'Cookie', 133: 'Cooking spray', 134: 'Corded phone', 135: 'Cosmetics', 136: 'Couch', 137: 'Countertop', 138: 'Cowboy hat', 139: 'Crab', 140: 'Cream', 141: 'Cricket ball', 142: 'Crocodile', 143: 'Croissant', 144: 'Crown', 145: 'Crutch', 146: 'Cucumber', 147: 'Cupboard', 148: 'Curtain', 149: 'Cutting board', 150: 'Dagger', 151: 'Dairy Product', 152: 'Deer', 153: 'Desk', 154: 'Dessert', 155: 'Diaper', 156: 'Dice', 157: 'Digital clock', 158: 'Dinosaur', 159: 'Dishwasher', 160: 'Dog', 161: 'Dog bed', 162: 'Doll', 163: 'Dolphin', 164: 'Door', 165: 'Door handle', 166: 'Doughnut', 167: 'Dragonfly', 168: 'Drawer', 169: 'Dress', 170: 'Drill (Tool)', 171: 'Drink', 172: 'Drinking straw', 173: 'Drum', 174: 'Duck', 175: 'Dumbbell', 176: 'Eagle', 177: 'Earrings', 178: 'Egg (Food)', 179: 'Elephant', 180: 'Envelope', 181: 'Eraser', 182: 'Face powder', 183: 'Facial tissue holder', 184: 'Falcon', 185: 'Fashion accessory', 186: 'Fast food', 187: 'Fax', 188: 'Fedora', 189: 'Filing cabinet', 190: 'Fire hydrant', 191: 'Fireplace', 192: 'Fish', 193: 'Flag', 194: 'Flashlight', 195: 'Flower', 196: 'Flowerpot', 197: 'Flute', 198: 'Flying disc', 199: 'Food', 200: 'Food processor', 201: 'Football', 202: 'Football helmet', 203: 'Footwear', 204: 'Fork', 205: 'Fountain', 206: 'Fox', 207: 'French fries', 208: 'French horn', 209: 'Frog', 210: 'Fruit', 211: 'Frying pan', 212: 'Furniture', 213: 'Garden Asparagus', 214: 'Gas stove', 215: 'Giraffe', 216: 'Girl', 217: 'Glasses', 218: 'Glove', 219: 'Goat', 220: 'Goggles', 221: 'Goldfish', 222: 'Golf ball', 223: 'Golf cart', 224: 'Gondola', 225: 'Goose', 226: 'Grape', 227: 'Grapefruit', 228: 'Grinder', 229: 'Guacamole', 230: 'Guitar', 231: 'Hair dryer', 232: 'Hair spray', 233: 'Hamburger', 234: 'Hammer', 235: 'Hamster', 236: 'Hand dryer', 237: 'Handbag', 238: 'Handgun', 239: 'Harbor seal', 240: 'Harmonica', 241: 'Harp', 242: 'Harpsichord', 243: 'Hat', 244: 'Headphones', 245: 'Heater', 246: 'Hedgehog', 247: 'Helicopter', 248: 'Helmet', 249: 'High heels', 250: 'Hiking equipment', 251: 'Hippopotamus', 252: 'Home appliance', 253: 'Honeycomb', 254: 'Horizontal bar', 255: 'Horse', 256: 'Hot dog', 257: 'House', 258: 'Houseplant', 259: 'Human arm', 260: 'Human beard', 261: 'Human body', 262: 'Human ear', 263: 'Human eye', 264: 'Human face', 265: 'Human foot', 266: 'Human hair', 267: 'Human hand', 268: 'Human head', 269: 'Human leg', 270: 'Human mouth', 271: 'Human nose', 272: 'Humidifier', 273: 'Ice cream', 274: 'Indoor rower', 275: 'Infant bed', 276: 'Insect', 277: 'Invertebrate', 278: 'Ipod', 279: 'Isopod', 280: 'Jacket', 281: 'Jacuzzi', 282: 'Jaguar (Animal)', 283: 'Jeans', 284: 'Jellyfish', 285: 'Jet ski', 286: 'Jug', 287: 'Juice', 288: 'Kangaroo', 289: 'Kettle', 290: 'Kitchen & dining room table', 291: 'Kitchen appliance', 292: 'Kitchen knife', 293: 'Kitchen utensil', 294: 'Kitchenware', 295: 'Kite', 296: 'Knife', 297: 'Koala', 298: 'Ladder', 299: 'Ladle', 300: 'Ladybug', 301: 'Lamp', 302: 'Land vehicle', 303: 'Lantern', 304: 'Laptop', 305: 'Lavender (Plant)', 306: 'Lemon', 307: 'Leopard', 308: 'Light bulb', 309: 'Light switch', 310: 'Lighthouse', 311: 'Lily', 312: 'Limousine', 313: 'Lion', 314: 'Lipstick', 315: 'Lizard', 316: 'Lobster', 317: 'Loveseat', 318: 'Luggage and bags', 319: 'Lynx', 320: 'Magpie', 321: 'Mammal', 322: 'Man', 323: 'Mango', 324: 'Maple', 325: 'Maracas', 326: 'Marine invertebrates', 327: 'Marine mammal', 328: 'Measuring cup', 329: 'Mechanical fan', 330: 'Medical equipment', 331: 'Microphone', 332: 'Microwave oven', 333: 'Milk', 334: 'Miniskirt', 335: 'Mirror', 336: 'Missile', 337: 'Mixer', 338: 'Mixing bowl', 339: 'Mobile phone', 340: 'Monkey', 341: 'Moths and butterflies', 342: 'Motorcycle', 343: 'Mouse', 344: 'Muffin', 345: 'Mug', 346: 'Mule', 347: 'Mushroom', 348: 'Musical instrument', 349: 'Musical keyboard', 350: 'Nail (Construction)', 351: 'Necklace', 352: 'Nightstand', 353: 'Oboe', 354: 'Office building', 355: 'Office supplies', 356: 'Orange', 357: 'Organ (Musical Instrument)', 358: 'Ostrich', 359: 'Otter', 360: 'Oven', 361: 'Owl', 362: 'Oyster', 363: 'Paddle', 364: 'Palm tree', 365: 'Pancake', 366: 'Panda', 367: 'Paper cutter', 368: 'Paper towel', 369: 'Parachute', 370: 'Parking meter', 371: 'Parrot', 372: 'Pasta', 373: 'Pastry', 374: 'Peach', 375: 'Pear', 376: 'Pen', 377: 'Pencil case', 378: 'Pencil sharpener', 379: 'Penguin', 380: 'Perfume', 381: 'Person', 382: 'Personal care', 383: 'Personal flotation device', 384: 'Piano', 385: 'Picnic basket', 386: 'Picture frame', 387: 'Pig', 388: 'Pillow', 389: 'Pineapple', 390: 'Pitcher (Container)', 391: 'Pizza', 392: 'Pizza cutter', 393: 'Plant', 394: 'Plastic bag', 395: 'Plate', 396: 'Platter', 397: 'Plumbing fixture', 398: 'Polar bear', 399: 'Pomegranate', 400: 'Popcorn', 401: 'Porch', 402: 'Porcupine', 403: 'Poster', 404: 'Potato', 405: 'Power plugs and sockets', 406: 'Pressure cooker', 407: 'Pretzel', 408: 'Printer', 409: 'Pumpkin', 410: 'Punching bag', 411: 'Rabbit', 412: 'Raccoon', 413: 'Racket', 414: 'Radish', 415: 'Ratchet (Device)', 416: 'Raven', 417: 'Rays and skates', 418: 'Red panda', 419: 'Refrigerator', 420: 'Remote control', 421: 'Reptile', 422: 'Rhinoceros', 423: 'Rifle', 424: 'Ring binder', 425: 'Rocket', 426: 'Roller skates', 427: 'Rose', 428: 'Rugby ball', 429: 'Ruler', 430: 'Salad', 431: 'Salt and pepper shakers', 432: 'Sandal', 433: 'Sandwich', 434: 'Saucer', 435: 'Saxophone', 436: 'Scale', 437: 'Scarf', 438: 'Scissors', 439: 'Scoreboard', 440: 'Scorpion', 441: 'Screwdriver', 442: 'Sculpture', 443: 'Sea lion', 444: 'Sea turtle', 445: 'Seafood', 446: 'Seahorse', 447: 'Seat belt', 448: 'Segway', 449: 'Serving tray', 450: 'Sewing machine', 451: 'Shark', 452: 'Sheep', 453: 'Shelf', 454: 'Shellfish', 455: 'Shirt', 456: 'Shorts', 457: 'Shotgun', 458: 'Shower', 459: 'Shrimp', 460: 'Sink', 461: 'Skateboard', 462: 'Ski', 463: 'Skirt', 464: 'Skull', 465: 'Skunk', 466: 'Skyscraper', 467: 'Slow cooker', 468: 'Snack', 469: 'Snail', 470: 'Snake', 471: 'Snowboard', 472: 'Snowman', 473: 'Snowmobile', 474: 'Snowplow', 475: 'Soap dispenser', 476: 'Sock', 477: 'Sofa bed', 478: 'Sombrero', 479: 'Sparrow', 480: 'Spatula', 481: 'Spice rack', 482: 'Spider', 483: 'Spoon', 484: 'Sports equipment', 485: 'Sports uniform', 486: 'Squash (Plant)', 487: 'Squid', 488: 'Squirrel', 489: 'Stairs', 490: 'Stapler', 491: 'Starfish', 492: 'Stationary bicycle', 493: 'Stethoscope', 494: 'Stool', 495: 'Stop sign', 496: 'Strawberry', 497: 'Street light', 498: 'Stretcher', 499: 'Studio couch', 500: 'Submarine', 501: 'Submarine sandwich', 502: 'Suit', 503: 'Suitcase', 504: 'Sun hat', 505: 'Sunglasses', 506: 'Surfboard', 507: 'Sushi', 508: 'Swan', 509: 'Swim cap', 510: 'Swimming pool', 511: 'Swimwear', 512: 'Sword', 513: 'Syringe', 514: 'Table', 515: 'Table tennis racket', 516: 'Tablet computer', 517: 'Tableware', 518: 'Taco', 519: 'Tank', 520: 'Tap', 521: 'Tart', 522: 'Taxi', 523: 'Tea', 524: 'Teapot', 525: 'Teddy bear', 526: 'Telephone', 527: 'Television', 528: 'Tennis ball', 529: 'Tennis racket', 530: 'Tent', 531: 'Tiara', 532: 'Tick', 533: 'Tie', 534: 'Tiger', 535: 'Tin can', 536: 'Tire', 537: 'Toaster', 538: 'Toilet', 539: 'Toilet paper', 540: 'Tomato', 541: 'Tool', 542: 'Toothbrush', 543: 'Torch', 544: 'Tortoise', 545: 'Towel', 546: 'Tower', 547: 'Toy', 548: 'Traffic light', 549: 'Traffic sign', 550: 'Train', 551: 'Training bench', 552: 'Treadmill', 553: 'Tree', 554: 'Tree house', 555: 'Tripod', 556: 'Trombone', 557: 'Trousers', 558: 'Truck', 559: 'Trumpet', 560: 'Turkey', 561: 'Turtle', 562: 'Umbrella', 563: 'Unicycle', 564: 'Van', 565: 'Vase', 566: 'Vegetable', 567: 'Vehicle', 568: 'Vehicle registration plate', 569: 'Violin', 570: 'Volleyball (Ball)', 571: 'Waffle', 572: 'Waffle iron', 573: 'Wall clock', 574: 'Wardrobe', 575: 'Washing machine', 576: 'Waste container', 577: 'Watch', 578: 'Watercraft', 579: 'Watermelon', 580: 'Weapon', 581: 'Whale', 582: 'Wheel', 583: 'Wheelchair', 584: 'Whisk', 585: 'Whiteboard', 586: 'Willow', 587: 'Window', 588: 'Window blind', 589: 'Wine', 590: 'Wine glass', 591: 'Wine rack', 592: 'Winter melon', 593: 'Wok', 594: 'Woman', 595: 'Wood-burning stove', 596: 'Woodpecker', 597: 'Worm', 598: 'Wrench', 599: 'Zebra', 600: 'Zucchini'}\n",
              " obb: None\n",
              " orig_img: array([[[208, 166, 121],\n",
              "         [208, 166, 121],\n",
              "         [209, 167, 122],\n",
              "         ...,\n",
              "         [ 18,  30,   8],\n",
              "         [ 11,  19,   9],\n",
              "         [  4,  20,   3]],\n",
              " \n",
              "        [[208, 166, 119],\n",
              "         [208, 166, 121],\n",
              "         [208, 166, 121],\n",
              "         ...,\n",
              "         [ 14,  23,  10],\n",
              "         [ 13,  20,   7],\n",
              "         [ 14,  23,  13]],\n",
              " \n",
              "        [[207, 165, 118],\n",
              "         [207, 165, 120],\n",
              "         [207, 165, 120],\n",
              "         ...,\n",
              "         [ 18,  26,  16],\n",
              "         [ 10,  19,   6],\n",
              "         [ 22,  31,  21]],\n",
              " \n",
              "        ...,\n",
              " \n",
              "        [[161, 183, 189],\n",
              "         [157, 184, 198],\n",
              "         [163, 185, 210],\n",
              "         ...,\n",
              "         [ 44,  63,  60],\n",
              "         [ 40,  56,  55],\n",
              "         [ 31,  44,  46]],\n",
              " \n",
              "        [[150, 167, 176],\n",
              "         [140, 165, 175],\n",
              "         [143, 167, 187],\n",
              "         ...,\n",
              "         [ 46,  58,  58],\n",
              "         [ 54,  72,  73],\n",
              "         [ 43,  65,  70]],\n",
              " \n",
              "        [[141, 153, 165],\n",
              "         [123, 141, 158],\n",
              "         [130, 152, 164],\n",
              "         ...,\n",
              "         [ 43,  55,  57],\n",
              "         [ 45,  59,  65],\n",
              "         [ 48,  65,  74]]], dtype=uint8)\n",
              " orig_shape: (768, 1024)\n",
              " path: '/content/drive/MyDrive/CV assignments notebook/OpenImageChallenge/openImg/images/val/000026e7ee790996.jpg'\n",
              " probs: None\n",
              " save_dir: 'runs/detect/predict'\n",
              " speed: {'preprocess': 2.393484115600586, 'inference': 136.57617568969727, 'postprocess': 0.8859634399414062}]"
            ]
          },
          "execution_count": 44,
          "metadata": {},
          "output_type": "execute_result"
        }
      ],
      "source": [
        "results"
      ]
    },
    {
      "cell_type": "code",
      "execution_count": null,
      "metadata": {},
      "outputs": [],
      "source": [
        "# !yolo task=detect mode=val model=/teamspace/studios/this_studio/OpenImgFolder/runs/detect/train/weights/best.pt data=\"/teamspace/studios/this_studio/OpenImgFolder/openImg/dataset.yaml\""
      ]
    },
    {
      "cell_type": "code",
      "execution_count": 11,
      "metadata": {},
      "outputs": [],
      "source": [
        "\n",
        "model = YOLO('/teamspace/studios/this_studio/OpenImgFolder/runs/detect/train2/weights/best.pt')  # load a custom model\n"
      ]
    },
    {
      "cell_type": "code",
      "execution_count": 4,
      "metadata": {},
      "outputs": [
        {
          "data": {
            "image/jpeg": "[encoded data removed]",
            "image/png": "[encoded data removed]",
            "text/plain": [
              "<PIL.JpegImagePlugin.JpegImageFile image mode=RGB size=178x283>"
            ]
          },
          "metadata": {},
          "output_type": "display_data"
        }
      ],
      "source": [
        "from PIL import Image\n",
        "\n",
        "image = Image.open('/teamspace/studios/this_studio/OpenImgFolder/data/test/images/4.jpeg')\n",
        "image.show()"
      ]
    },
    {
      "cell_type": "markdown",
      "metadata": {},
      "source": [
        "# Predict with the model"
      ]
    },
    {
      "cell_type": "code",
      "execution_count": 12,
      "metadata": {
        "id": "GlfwxA8L5Px-"
      },
      "outputs": [
        {
          "name": "stdout",
          "output_type": "stream",
          "text": [
            "\n",
            "image 1/1 /teamspace/studios/this_studio/OpenImgFolder/data/test/images/4.jpeg: 608x384 1 Helmet, 2 Glovess, 85.9ms\n",
            "Speed: 2.1ms preprocess, 85.9ms inference, 1.7ms postprocess per image at shape (1, 3, 608, 384)\n"
          ]
        }
      ],
      "source": [
        "# Predict with the model\n",
        "results = model('/teamspace/studios/this_studio/OpenImgFolder/data/test/images/4.jpeg')  # predict on an image"
      ]
    },
    {
      "cell_type": "markdown",
      "metadata": {},
      "source": []
    }
  ],
  "metadata": {
    "accelerator": "GPU",
    "colab": {
      "gpuType": "T4",
      "provenance": []
    },
    "kernelspec": {
      "display_name": "Python 3",
      "name": "python3"
    },
    "language_info": {
      "codemirror_mode": {
        "name": "ipython",
        "version": 3
      },
      "file_extension": ".py",
      "mimetype": "text/x-python",
      "name": "python",
      "nbconvert_exporter": "python",
      "pygments_lexer": "ipython3",
      "version": "3.10.10"
    }
  },
  "nbformat": 4,
  "nbformat_minor": 0
}
